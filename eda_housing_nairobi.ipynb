{
  "nbformat": 4,
  "nbformat_minor": 0,
  "metadata": {
    "colab": {
      "provenance": [],
      "mount_file_id": "1KqYnm0In01u0xTtEhGbBzZ3SB1Z_LfoW",
      "authorship_tag": "ABX9TyP5GE+a8wZqguVuAjeu+RVx",
      "include_colab_link": true
    },
    "kernelspec": {
      "name": "python3",
      "display_name": "Python 3"
    },
    "language_info": {
      "name": "python"
    }
  },
  "cells": [
    {
      "cell_type": "markdown",
      "metadata": {
        "id": "view-in-github",
        "colab_type": "text"
      },
      "source": [
        "<a href=\"https://colab.research.google.com/github/Mburu-Elvis/NairobiRentPrices/blob/main/eda_housing_nairobi.ipynb\" target=\"_parent\"><img src=\"https://colab.research.google.com/assets/colab-badge.svg\" alt=\"Open In Colab\"/></a>"
      ]
    },
    {
      "cell_type": "markdown",
      "source": [
        "## Importing Libraries"
      ],
      "metadata": {
        "id": "OpfOCrag93o5"
      }
    },
    {
      "cell_type": "code",
      "source": [
        "import pandas as pd\n",
        "import numpy as np\n",
        "import matplotlib.pyplot as plt\n",
        "import seaborn as sns"
      ],
      "metadata": {
        "id": "LHe3rgoc92wc"
      },
      "execution_count": 78,
      "outputs": []
    },
    {
      "cell_type": "code",
      "source": [
        "url = \"https://raw.githubusercontent.com/Mburu-Elvis/NairobiRentPrices/main/housing_data.csv\""
      ],
      "metadata": {
        "id": "8Eb8xeCz1hH4"
      },
      "execution_count": 79,
      "outputs": []
    },
    {
      "cell_type": "code",
      "source": [
        "data = pd.read_csv(url, sep=\",\")\n",
        "data_overview = data.iloc[:120000, :]"
      ],
      "metadata": {
        "id": "PtgGYLykz_Qm"
      },
      "execution_count": 80,
      "outputs": []
    },
    {
      "cell_type": "code",
      "source": [
        "data.head()"
      ],
      "metadata": {
        "colab": {
          "base_uri": "https://localhost:8080/",
          "height": 206
        },
        "id": "m83PeWH52IkB",
        "outputId": "24689b80-4025-47ce-e903-407682b1002b"
      },
      "execution_count": 81,
      "outputs": [
        {
          "output_type": "execute_result",
          "data": {
            "text/plain": [
              "         City             Location  Bedrooms  Bathrooms  Parking     Price\n",
              "0    Machakos   Syokimau/Mulolongo       4.0        4.0      NaN  100000.0\n",
              "1   Westlands                Runda       3.0        3.0      2.0  180000.0\n",
              "2     Nairobi        Spring Valley       5.0        5.0      4.0  380000.0\n",
              "3     Nairobi            Thindigua       3.0        3.0      NaN   55000.0\n",
              "4     Nairobi            Westlands       4.0        4.0      4.0  265000.0"
            ],
            "text/html": [
              "\n",
              "  <div id=\"df-688e41b5-cdc5-4119-bff6-b8c35aa6eba0\" class=\"colab-df-container\">\n",
              "    <div>\n",
              "<style scoped>\n",
              "    .dataframe tbody tr th:only-of-type {\n",
              "        vertical-align: middle;\n",
              "    }\n",
              "\n",
              "    .dataframe tbody tr th {\n",
              "        vertical-align: top;\n",
              "    }\n",
              "\n",
              "    .dataframe thead th {\n",
              "        text-align: right;\n",
              "    }\n",
              "</style>\n",
              "<table border=\"1\" class=\"dataframe\">\n",
              "  <thead>\n",
              "    <tr style=\"text-align: right;\">\n",
              "      <th></th>\n",
              "      <th>City</th>\n",
              "      <th>Location</th>\n",
              "      <th>Bedrooms</th>\n",
              "      <th>Bathrooms</th>\n",
              "      <th>Parking</th>\n",
              "      <th>Price</th>\n",
              "    </tr>\n",
              "  </thead>\n",
              "  <tbody>\n",
              "    <tr>\n",
              "      <th>0</th>\n",
              "      <td>Machakos</td>\n",
              "      <td>Syokimau/Mulolongo</td>\n",
              "      <td>4.0</td>\n",
              "      <td>4.0</td>\n",
              "      <td>NaN</td>\n",
              "      <td>100000.0</td>\n",
              "    </tr>\n",
              "    <tr>\n",
              "      <th>1</th>\n",
              "      <td>Westlands</td>\n",
              "      <td>Runda</td>\n",
              "      <td>3.0</td>\n",
              "      <td>3.0</td>\n",
              "      <td>2.0</td>\n",
              "      <td>180000.0</td>\n",
              "    </tr>\n",
              "    <tr>\n",
              "      <th>2</th>\n",
              "      <td>Nairobi</td>\n",
              "      <td>Spring Valley</td>\n",
              "      <td>5.0</td>\n",
              "      <td>5.0</td>\n",
              "      <td>4.0</td>\n",
              "      <td>380000.0</td>\n",
              "    </tr>\n",
              "    <tr>\n",
              "      <th>3</th>\n",
              "      <td>Nairobi</td>\n",
              "      <td>Thindigua</td>\n",
              "      <td>3.0</td>\n",
              "      <td>3.0</td>\n",
              "      <td>NaN</td>\n",
              "      <td>55000.0</td>\n",
              "    </tr>\n",
              "    <tr>\n",
              "      <th>4</th>\n",
              "      <td>Nairobi</td>\n",
              "      <td>Westlands</td>\n",
              "      <td>4.0</td>\n",
              "      <td>4.0</td>\n",
              "      <td>4.0</td>\n",
              "      <td>265000.0</td>\n",
              "    </tr>\n",
              "  </tbody>\n",
              "</table>\n",
              "</div>\n",
              "    <div class=\"colab-df-buttons\">\n",
              "\n",
              "  <div class=\"colab-df-container\">\n",
              "    <button class=\"colab-df-convert\" onclick=\"convertToInteractive('df-688e41b5-cdc5-4119-bff6-b8c35aa6eba0')\"\n",
              "            title=\"Convert this dataframe to an interactive table.\"\n",
              "            style=\"display:none;\">\n",
              "\n",
              "  <svg xmlns=\"http://www.w3.org/2000/svg\" height=\"24px\" viewBox=\"0 -960 960 960\">\n",
              "    <path d=\"M120-120v-720h720v720H120Zm60-500h600v-160H180v160Zm220 220h160v-160H400v160Zm0 220h160v-160H400v160ZM180-400h160v-160H180v160Zm440 0h160v-160H620v160ZM180-180h160v-160H180v160Zm440 0h160v-160H620v160Z\"/>\n",
              "  </svg>\n",
              "    </button>\n",
              "\n",
              "  <style>\n",
              "    .colab-df-container {\n",
              "      display:flex;\n",
              "      gap: 12px;\n",
              "    }\n",
              "\n",
              "    .colab-df-convert {\n",
              "      background-color: #E8F0FE;\n",
              "      border: none;\n",
              "      border-radius: 50%;\n",
              "      cursor: pointer;\n",
              "      display: none;\n",
              "      fill: #1967D2;\n",
              "      height: 32px;\n",
              "      padding: 0 0 0 0;\n",
              "      width: 32px;\n",
              "    }\n",
              "\n",
              "    .colab-df-convert:hover {\n",
              "      background-color: #E2EBFA;\n",
              "      box-shadow: 0px 1px 2px rgba(60, 64, 67, 0.3), 0px 1px 3px 1px rgba(60, 64, 67, 0.15);\n",
              "      fill: #174EA6;\n",
              "    }\n",
              "\n",
              "    .colab-df-buttons div {\n",
              "      margin-bottom: 4px;\n",
              "    }\n",
              "\n",
              "    [theme=dark] .colab-df-convert {\n",
              "      background-color: #3B4455;\n",
              "      fill: #D2E3FC;\n",
              "    }\n",
              "\n",
              "    [theme=dark] .colab-df-convert:hover {\n",
              "      background-color: #434B5C;\n",
              "      box-shadow: 0px 1px 3px 1px rgba(0, 0, 0, 0.15);\n",
              "      filter: drop-shadow(0px 1px 2px rgba(0, 0, 0, 0.3));\n",
              "      fill: #FFFFFF;\n",
              "    }\n",
              "  </style>\n",
              "\n",
              "    <script>\n",
              "      const buttonEl =\n",
              "        document.querySelector('#df-688e41b5-cdc5-4119-bff6-b8c35aa6eba0 button.colab-df-convert');\n",
              "      buttonEl.style.display =\n",
              "        google.colab.kernel.accessAllowed ? 'block' : 'none';\n",
              "\n",
              "      async function convertToInteractive(key) {\n",
              "        const element = document.querySelector('#df-688e41b5-cdc5-4119-bff6-b8c35aa6eba0');\n",
              "        const dataTable =\n",
              "          await google.colab.kernel.invokeFunction('convertToInteractive',\n",
              "                                                    [key], {});\n",
              "        if (!dataTable) return;\n",
              "\n",
              "        const docLinkHtml = 'Like what you see? Visit the ' +\n",
              "          '<a target=\"_blank\" href=https://colab.research.google.com/notebooks/data_table.ipynb>data table notebook</a>'\n",
              "          + ' to learn more about interactive tables.';\n",
              "        element.innerHTML = '';\n",
              "        dataTable['output_type'] = 'display_data';\n",
              "        await google.colab.output.renderOutput(dataTable, element);\n",
              "        const docLink = document.createElement('div');\n",
              "        docLink.innerHTML = docLinkHtml;\n",
              "        element.appendChild(docLink);\n",
              "      }\n",
              "    </script>\n",
              "  </div>\n",
              "\n",
              "\n",
              "<div id=\"df-f7309678-a999-45cd-8814-fab96e636aa5\">\n",
              "  <button class=\"colab-df-quickchart\" onclick=\"quickchart('df-f7309678-a999-45cd-8814-fab96e636aa5')\"\n",
              "            title=\"Suggest charts.\"\n",
              "            style=\"display:none;\">\n",
              "\n",
              "<svg xmlns=\"http://www.w3.org/2000/svg\" height=\"24px\"viewBox=\"0 0 24 24\"\n",
              "     width=\"24px\">\n",
              "    <g>\n",
              "        <path d=\"M19 3H5c-1.1 0-2 .9-2 2v14c0 1.1.9 2 2 2h14c1.1 0 2-.9 2-2V5c0-1.1-.9-2-2-2zM9 17H7v-7h2v7zm4 0h-2V7h2v10zm4 0h-2v-4h2v4z\"/>\n",
              "    </g>\n",
              "</svg>\n",
              "  </button>\n",
              "\n",
              "<style>\n",
              "  .colab-df-quickchart {\n",
              "      --bg-color: #E8F0FE;\n",
              "      --fill-color: #1967D2;\n",
              "      --hover-bg-color: #E2EBFA;\n",
              "      --hover-fill-color: #174EA6;\n",
              "      --disabled-fill-color: #AAA;\n",
              "      --disabled-bg-color: #DDD;\n",
              "  }\n",
              "\n",
              "  [theme=dark] .colab-df-quickchart {\n",
              "      --bg-color: #3B4455;\n",
              "      --fill-color: #D2E3FC;\n",
              "      --hover-bg-color: #434B5C;\n",
              "      --hover-fill-color: #FFFFFF;\n",
              "      --disabled-bg-color: #3B4455;\n",
              "      --disabled-fill-color: #666;\n",
              "  }\n",
              "\n",
              "  .colab-df-quickchart {\n",
              "    background-color: var(--bg-color);\n",
              "    border: none;\n",
              "    border-radius: 50%;\n",
              "    cursor: pointer;\n",
              "    display: none;\n",
              "    fill: var(--fill-color);\n",
              "    height: 32px;\n",
              "    padding: 0;\n",
              "    width: 32px;\n",
              "  }\n",
              "\n",
              "  .colab-df-quickchart:hover {\n",
              "    background-color: var(--hover-bg-color);\n",
              "    box-shadow: 0 1px 2px rgba(60, 64, 67, 0.3), 0 1px 3px 1px rgba(60, 64, 67, 0.15);\n",
              "    fill: var(--button-hover-fill-color);\n",
              "  }\n",
              "\n",
              "  .colab-df-quickchart-complete:disabled,\n",
              "  .colab-df-quickchart-complete:disabled:hover {\n",
              "    background-color: var(--disabled-bg-color);\n",
              "    fill: var(--disabled-fill-color);\n",
              "    box-shadow: none;\n",
              "  }\n",
              "\n",
              "  .colab-df-spinner {\n",
              "    border: 2px solid var(--fill-color);\n",
              "    border-color: transparent;\n",
              "    border-bottom-color: var(--fill-color);\n",
              "    animation:\n",
              "      spin 1s steps(1) infinite;\n",
              "  }\n",
              "\n",
              "  @keyframes spin {\n",
              "    0% {\n",
              "      border-color: transparent;\n",
              "      border-bottom-color: var(--fill-color);\n",
              "      border-left-color: var(--fill-color);\n",
              "    }\n",
              "    20% {\n",
              "      border-color: transparent;\n",
              "      border-left-color: var(--fill-color);\n",
              "      border-top-color: var(--fill-color);\n",
              "    }\n",
              "    30% {\n",
              "      border-color: transparent;\n",
              "      border-left-color: var(--fill-color);\n",
              "      border-top-color: var(--fill-color);\n",
              "      border-right-color: var(--fill-color);\n",
              "    }\n",
              "    40% {\n",
              "      border-color: transparent;\n",
              "      border-right-color: var(--fill-color);\n",
              "      border-top-color: var(--fill-color);\n",
              "    }\n",
              "    60% {\n",
              "      border-color: transparent;\n",
              "      border-right-color: var(--fill-color);\n",
              "    }\n",
              "    80% {\n",
              "      border-color: transparent;\n",
              "      border-right-color: var(--fill-color);\n",
              "      border-bottom-color: var(--fill-color);\n",
              "    }\n",
              "    90% {\n",
              "      border-color: transparent;\n",
              "      border-bottom-color: var(--fill-color);\n",
              "    }\n",
              "  }\n",
              "</style>\n",
              "\n",
              "  <script>\n",
              "    async function quickchart(key) {\n",
              "      const quickchartButtonEl =\n",
              "        document.querySelector('#' + key + ' button');\n",
              "      quickchartButtonEl.disabled = true;  // To prevent multiple clicks.\n",
              "      quickchartButtonEl.classList.add('colab-df-spinner');\n",
              "      try {\n",
              "        const charts = await google.colab.kernel.invokeFunction(\n",
              "            'suggestCharts', [key], {});\n",
              "      } catch (error) {\n",
              "        console.error('Error during call to suggestCharts:', error);\n",
              "      }\n",
              "      quickchartButtonEl.classList.remove('colab-df-spinner');\n",
              "      quickchartButtonEl.classList.add('colab-df-quickchart-complete');\n",
              "    }\n",
              "    (() => {\n",
              "      let quickchartButtonEl =\n",
              "        document.querySelector('#df-f7309678-a999-45cd-8814-fab96e636aa5 button');\n",
              "      quickchartButtonEl.style.display =\n",
              "        google.colab.kernel.accessAllowed ? 'block' : 'none';\n",
              "    })();\n",
              "  </script>\n",
              "</div>\n",
              "    </div>\n",
              "  </div>\n"
            ]
          },
          "metadata": {},
          "execution_count": 81
        }
      ]
    },
    {
      "cell_type": "markdown",
      "source": [
        "## Exploratory Data Analysis"
      ],
      "metadata": {
        "id": "jtV_hjAa5o2d"
      }
    },
    {
      "cell_type": "code",
      "source": [
        "data.info()"
      ],
      "metadata": {
        "colab": {
          "base_uri": "https://localhost:8080/"
        },
        "id": "xodYp62k8YrP",
        "outputId": "df16d086-39c7-4731-c7a1-07c7b43e5d6f"
      },
      "execution_count": 82,
      "outputs": [
        {
          "output_type": "stream",
          "name": "stdout",
          "text": [
            "<class 'pandas.core.frame.DataFrame'>\n",
            "RangeIndex: 231057 entries, 0 to 231056\n",
            "Data columns (total 6 columns):\n",
            " #   Column     Non-Null Count   Dtype  \n",
            "---  ------     --------------   -----  \n",
            " 0   City       206389 non-null  object \n",
            " 1   Location   206386 non-null  object \n",
            " 2   Bedrooms   225193 non-null  float64\n",
            " 3   Bathrooms  221926 non-null  float64\n",
            " 4   Parking    107061 non-null  float64\n",
            " 5   Price      230942 non-null  float64\n",
            "dtypes: float64(4), object(2)\n",
            "memory usage: 10.6+ MB\n"
          ]
        }
      ]
    },
    {
      "cell_type": "markdown",
      "source": [
        "### City"
      ],
      "metadata": {
        "id": "2mUH-AKO6egD"
      }
    },
    {
      "cell_type": "code",
      "source": [
        "data['City'].value_counts()"
      ],
      "metadata": {
        "colab": {
          "base_uri": "https://localhost:8080/"
        },
        "id": "ixyGZt2S5-Gh",
        "outputId": "c8164f88-046a-4afb-c5ca-c771841e1d46"
      },
      "execution_count": 83,
      "outputs": [
        {
          "output_type": "execute_result",
          "data": {
            "text/plain": [
              " Nairobi       190877\n",
              "Nairobi          8075\n",
              "Westlands        1143\n",
              " Mombasa          464\n",
              "Nyali             232\n",
              "                ...  \n",
              "savanah             1\n",
              "Golf's              1\n",
              "Deliverance         1\n",
              "EASTATE             1\n",
              "Fig                 1\n",
              "Name: City, Length: 448, dtype: int64"
            ]
          },
          "metadata": {},
          "execution_count": 83
        }
      ]
    },
    {
      "cell_type": "code",
      "source": [
        "data['City'] = data['City'].str.strip(' ')"
      ],
      "metadata": {
        "id": "oXrNl6-UB0BJ"
      },
      "execution_count": 84,
      "outputs": []
    },
    {
      "cell_type": "code",
      "source": [
        "for i in range(0, 231057):\n",
        "  if data['City'].iloc[i] == 'Westlands':\n",
        "    data.at[i, 'City'] = 'Nairobi'\n",
        "    data.at[i, 'Location'] = 'Westlands'\n"
      ],
      "metadata": {
        "id": "nDlOB8RW7w7E"
      },
      "execution_count": 85,
      "outputs": []
    },
    {
      "cell_type": "code",
      "source": [
        "data['City'].value_counts()"
      ],
      "metadata": {
        "colab": {
          "base_uri": "https://localhost:8080/"
        },
        "id": "cnfyE66m9Qa4",
        "outputId": "d2b93c74-5092-4fcb-a27f-1521bd152f79"
      },
      "execution_count": 86,
      "outputs": [
        {
          "output_type": "execute_result",
          "data": {
            "text/plain": [
              "Nairobi     200174\n",
              "Mombasa        477\n",
              "Nyali          233\n",
              "West           182\n",
              "B              174\n",
              "             ...  \n",
              "EASTATE          1\n",
              "Shopping         1\n",
              "Mugumo           1\n",
              "Trm              1\n",
              "centre           1\n",
              "Name: City, Length: 429, dtype: int64"
            ]
          },
          "metadata": {},
          "execution_count": 86
        }
      ]
    },
    {
      "cell_type": "code",
      "source": [
        "data.head()"
      ],
      "metadata": {
        "colab": {
          "base_uri": "https://localhost:8080/",
          "height": 206
        },
        "id": "RNCJXjMT-13N",
        "outputId": "b0087361-0f21-4fa1-b81f-3980c7a3cac4"
      },
      "execution_count": 87,
      "outputs": [
        {
          "output_type": "execute_result",
          "data": {
            "text/plain": [
              "       City             Location  Bedrooms  Bathrooms  Parking     Price\n",
              "0  Machakos   Syokimau/Mulolongo       4.0        4.0      NaN  100000.0\n",
              "1   Nairobi            Westlands       3.0        3.0      2.0  180000.0\n",
              "2   Nairobi        Spring Valley       5.0        5.0      4.0  380000.0\n",
              "3   Nairobi            Thindigua       3.0        3.0      NaN   55000.0\n",
              "4   Nairobi            Westlands       4.0        4.0      4.0  265000.0"
            ],
            "text/html": [
              "\n",
              "  <div id=\"df-9f492437-afb7-416d-b848-9d415b03eb92\" class=\"colab-df-container\">\n",
              "    <div>\n",
              "<style scoped>\n",
              "    .dataframe tbody tr th:only-of-type {\n",
              "        vertical-align: middle;\n",
              "    }\n",
              "\n",
              "    .dataframe tbody tr th {\n",
              "        vertical-align: top;\n",
              "    }\n",
              "\n",
              "    .dataframe thead th {\n",
              "        text-align: right;\n",
              "    }\n",
              "</style>\n",
              "<table border=\"1\" class=\"dataframe\">\n",
              "  <thead>\n",
              "    <tr style=\"text-align: right;\">\n",
              "      <th></th>\n",
              "      <th>City</th>\n",
              "      <th>Location</th>\n",
              "      <th>Bedrooms</th>\n",
              "      <th>Bathrooms</th>\n",
              "      <th>Parking</th>\n",
              "      <th>Price</th>\n",
              "    </tr>\n",
              "  </thead>\n",
              "  <tbody>\n",
              "    <tr>\n",
              "      <th>0</th>\n",
              "      <td>Machakos</td>\n",
              "      <td>Syokimau/Mulolongo</td>\n",
              "      <td>4.0</td>\n",
              "      <td>4.0</td>\n",
              "      <td>NaN</td>\n",
              "      <td>100000.0</td>\n",
              "    </tr>\n",
              "    <tr>\n",
              "      <th>1</th>\n",
              "      <td>Nairobi</td>\n",
              "      <td>Westlands</td>\n",
              "      <td>3.0</td>\n",
              "      <td>3.0</td>\n",
              "      <td>2.0</td>\n",
              "      <td>180000.0</td>\n",
              "    </tr>\n",
              "    <tr>\n",
              "      <th>2</th>\n",
              "      <td>Nairobi</td>\n",
              "      <td>Spring Valley</td>\n",
              "      <td>5.0</td>\n",
              "      <td>5.0</td>\n",
              "      <td>4.0</td>\n",
              "      <td>380000.0</td>\n",
              "    </tr>\n",
              "    <tr>\n",
              "      <th>3</th>\n",
              "      <td>Nairobi</td>\n",
              "      <td>Thindigua</td>\n",
              "      <td>3.0</td>\n",
              "      <td>3.0</td>\n",
              "      <td>NaN</td>\n",
              "      <td>55000.0</td>\n",
              "    </tr>\n",
              "    <tr>\n",
              "      <th>4</th>\n",
              "      <td>Nairobi</td>\n",
              "      <td>Westlands</td>\n",
              "      <td>4.0</td>\n",
              "      <td>4.0</td>\n",
              "      <td>4.0</td>\n",
              "      <td>265000.0</td>\n",
              "    </tr>\n",
              "  </tbody>\n",
              "</table>\n",
              "</div>\n",
              "    <div class=\"colab-df-buttons\">\n",
              "\n",
              "  <div class=\"colab-df-container\">\n",
              "    <button class=\"colab-df-convert\" onclick=\"convertToInteractive('df-9f492437-afb7-416d-b848-9d415b03eb92')\"\n",
              "            title=\"Convert this dataframe to an interactive table.\"\n",
              "            style=\"display:none;\">\n",
              "\n",
              "  <svg xmlns=\"http://www.w3.org/2000/svg\" height=\"24px\" viewBox=\"0 -960 960 960\">\n",
              "    <path d=\"M120-120v-720h720v720H120Zm60-500h600v-160H180v160Zm220 220h160v-160H400v160Zm0 220h160v-160H400v160ZM180-400h160v-160H180v160Zm440 0h160v-160H620v160ZM180-180h160v-160H180v160Zm440 0h160v-160H620v160Z\"/>\n",
              "  </svg>\n",
              "    </button>\n",
              "\n",
              "  <style>\n",
              "    .colab-df-container {\n",
              "      display:flex;\n",
              "      gap: 12px;\n",
              "    }\n",
              "\n",
              "    .colab-df-convert {\n",
              "      background-color: #E8F0FE;\n",
              "      border: none;\n",
              "      border-radius: 50%;\n",
              "      cursor: pointer;\n",
              "      display: none;\n",
              "      fill: #1967D2;\n",
              "      height: 32px;\n",
              "      padding: 0 0 0 0;\n",
              "      width: 32px;\n",
              "    }\n",
              "\n",
              "    .colab-df-convert:hover {\n",
              "      background-color: #E2EBFA;\n",
              "      box-shadow: 0px 1px 2px rgba(60, 64, 67, 0.3), 0px 1px 3px 1px rgba(60, 64, 67, 0.15);\n",
              "      fill: #174EA6;\n",
              "    }\n",
              "\n",
              "    .colab-df-buttons div {\n",
              "      margin-bottom: 4px;\n",
              "    }\n",
              "\n",
              "    [theme=dark] .colab-df-convert {\n",
              "      background-color: #3B4455;\n",
              "      fill: #D2E3FC;\n",
              "    }\n",
              "\n",
              "    [theme=dark] .colab-df-convert:hover {\n",
              "      background-color: #434B5C;\n",
              "      box-shadow: 0px 1px 3px 1px rgba(0, 0, 0, 0.15);\n",
              "      filter: drop-shadow(0px 1px 2px rgba(0, 0, 0, 0.3));\n",
              "      fill: #FFFFFF;\n",
              "    }\n",
              "  </style>\n",
              "\n",
              "    <script>\n",
              "      const buttonEl =\n",
              "        document.querySelector('#df-9f492437-afb7-416d-b848-9d415b03eb92 button.colab-df-convert');\n",
              "      buttonEl.style.display =\n",
              "        google.colab.kernel.accessAllowed ? 'block' : 'none';\n",
              "\n",
              "      async function convertToInteractive(key) {\n",
              "        const element = document.querySelector('#df-9f492437-afb7-416d-b848-9d415b03eb92');\n",
              "        const dataTable =\n",
              "          await google.colab.kernel.invokeFunction('convertToInteractive',\n",
              "                                                    [key], {});\n",
              "        if (!dataTable) return;\n",
              "\n",
              "        const docLinkHtml = 'Like what you see? Visit the ' +\n",
              "          '<a target=\"_blank\" href=https://colab.research.google.com/notebooks/data_table.ipynb>data table notebook</a>'\n",
              "          + ' to learn more about interactive tables.';\n",
              "        element.innerHTML = '';\n",
              "        dataTable['output_type'] = 'display_data';\n",
              "        await google.colab.output.renderOutput(dataTable, element);\n",
              "        const docLink = document.createElement('div');\n",
              "        docLink.innerHTML = docLinkHtml;\n",
              "        element.appendChild(docLink);\n",
              "      }\n",
              "    </script>\n",
              "  </div>\n",
              "\n",
              "\n",
              "<div id=\"df-e8da5697-0a2b-43c5-9193-66827c1ef555\">\n",
              "  <button class=\"colab-df-quickchart\" onclick=\"quickchart('df-e8da5697-0a2b-43c5-9193-66827c1ef555')\"\n",
              "            title=\"Suggest charts.\"\n",
              "            style=\"display:none;\">\n",
              "\n",
              "<svg xmlns=\"http://www.w3.org/2000/svg\" height=\"24px\"viewBox=\"0 0 24 24\"\n",
              "     width=\"24px\">\n",
              "    <g>\n",
              "        <path d=\"M19 3H5c-1.1 0-2 .9-2 2v14c0 1.1.9 2 2 2h14c1.1 0 2-.9 2-2V5c0-1.1-.9-2-2-2zM9 17H7v-7h2v7zm4 0h-2V7h2v10zm4 0h-2v-4h2v4z\"/>\n",
              "    </g>\n",
              "</svg>\n",
              "  </button>\n",
              "\n",
              "<style>\n",
              "  .colab-df-quickchart {\n",
              "      --bg-color: #E8F0FE;\n",
              "      --fill-color: #1967D2;\n",
              "      --hover-bg-color: #E2EBFA;\n",
              "      --hover-fill-color: #174EA6;\n",
              "      --disabled-fill-color: #AAA;\n",
              "      --disabled-bg-color: #DDD;\n",
              "  }\n",
              "\n",
              "  [theme=dark] .colab-df-quickchart {\n",
              "      --bg-color: #3B4455;\n",
              "      --fill-color: #D2E3FC;\n",
              "      --hover-bg-color: #434B5C;\n",
              "      --hover-fill-color: #FFFFFF;\n",
              "      --disabled-bg-color: #3B4455;\n",
              "      --disabled-fill-color: #666;\n",
              "  }\n",
              "\n",
              "  .colab-df-quickchart {\n",
              "    background-color: var(--bg-color);\n",
              "    border: none;\n",
              "    border-radius: 50%;\n",
              "    cursor: pointer;\n",
              "    display: none;\n",
              "    fill: var(--fill-color);\n",
              "    height: 32px;\n",
              "    padding: 0;\n",
              "    width: 32px;\n",
              "  }\n",
              "\n",
              "  .colab-df-quickchart:hover {\n",
              "    background-color: var(--hover-bg-color);\n",
              "    box-shadow: 0 1px 2px rgba(60, 64, 67, 0.3), 0 1px 3px 1px rgba(60, 64, 67, 0.15);\n",
              "    fill: var(--button-hover-fill-color);\n",
              "  }\n",
              "\n",
              "  .colab-df-quickchart-complete:disabled,\n",
              "  .colab-df-quickchart-complete:disabled:hover {\n",
              "    background-color: var(--disabled-bg-color);\n",
              "    fill: var(--disabled-fill-color);\n",
              "    box-shadow: none;\n",
              "  }\n",
              "\n",
              "  .colab-df-spinner {\n",
              "    border: 2px solid var(--fill-color);\n",
              "    border-color: transparent;\n",
              "    border-bottom-color: var(--fill-color);\n",
              "    animation:\n",
              "      spin 1s steps(1) infinite;\n",
              "  }\n",
              "\n",
              "  @keyframes spin {\n",
              "    0% {\n",
              "      border-color: transparent;\n",
              "      border-bottom-color: var(--fill-color);\n",
              "      border-left-color: var(--fill-color);\n",
              "    }\n",
              "    20% {\n",
              "      border-color: transparent;\n",
              "      border-left-color: var(--fill-color);\n",
              "      border-top-color: var(--fill-color);\n",
              "    }\n",
              "    30% {\n",
              "      border-color: transparent;\n",
              "      border-left-color: var(--fill-color);\n",
              "      border-top-color: var(--fill-color);\n",
              "      border-right-color: var(--fill-color);\n",
              "    }\n",
              "    40% {\n",
              "      border-color: transparent;\n",
              "      border-right-color: var(--fill-color);\n",
              "      border-top-color: var(--fill-color);\n",
              "    }\n",
              "    60% {\n",
              "      border-color: transparent;\n",
              "      border-right-color: var(--fill-color);\n",
              "    }\n",
              "    80% {\n",
              "      border-color: transparent;\n",
              "      border-right-color: var(--fill-color);\n",
              "      border-bottom-color: var(--fill-color);\n",
              "    }\n",
              "    90% {\n",
              "      border-color: transparent;\n",
              "      border-bottom-color: var(--fill-color);\n",
              "    }\n",
              "  }\n",
              "</style>\n",
              "\n",
              "  <script>\n",
              "    async function quickchart(key) {\n",
              "      const quickchartButtonEl =\n",
              "        document.querySelector('#' + key + ' button');\n",
              "      quickchartButtonEl.disabled = true;  // To prevent multiple clicks.\n",
              "      quickchartButtonEl.classList.add('colab-df-spinner');\n",
              "      try {\n",
              "        const charts = await google.colab.kernel.invokeFunction(\n",
              "            'suggestCharts', [key], {});\n",
              "      } catch (error) {\n",
              "        console.error('Error during call to suggestCharts:', error);\n",
              "      }\n",
              "      quickchartButtonEl.classList.remove('colab-df-spinner');\n",
              "      quickchartButtonEl.classList.add('colab-df-quickchart-complete');\n",
              "    }\n",
              "    (() => {\n",
              "      let quickchartButtonEl =\n",
              "        document.querySelector('#df-e8da5697-0a2b-43c5-9193-66827c1ef555 button');\n",
              "      quickchartButtonEl.style.display =\n",
              "        google.colab.kernel.accessAllowed ? 'block' : 'none';\n",
              "    })();\n",
              "  </script>\n",
              "</div>\n",
              "    </div>\n",
              "  </div>\n"
            ]
          },
          "metadata": {},
          "execution_count": 87
        }
      ]
    },
    {
      "cell_type": "code",
      "source": [
        "data['City'].fillna('Nairobi', inplace=True)"
      ],
      "metadata": {
        "id": "OUSemtRs_rN-"
      },
      "execution_count": 88,
      "outputs": []
    },
    {
      "cell_type": "code",
      "source": [
        "data['City'].value_counts()"
      ],
      "metadata": {
        "colab": {
          "base_uri": "https://localhost:8080/"
        },
        "id": "rRoJt1O6B8v0",
        "outputId": "9c0134d9-f26a-4e00-bd2d-6061d9190871"
      },
      "execution_count": 89,
      "outputs": [
        {
          "output_type": "execute_result",
          "data": {
            "text/plain": [
              "Nairobi     224842\n",
              "Mombasa        477\n",
              "Nyali          233\n",
              "West           182\n",
              "B              174\n",
              "             ...  \n",
              "EASTATE          1\n",
              "Shopping         1\n",
              "Mugumo           1\n",
              "Trm              1\n",
              "centre           1\n",
              "Name: City, Length: 429, dtype: int64"
            ]
          },
          "metadata": {},
          "execution_count": 89
        }
      ]
    },
    {
      "cell_type": "code",
      "source": [
        "data.info()"
      ],
      "metadata": {
        "colab": {
          "base_uri": "https://localhost:8080/"
        },
        "id": "oGMFmDw3CZnI",
        "outputId": "754c2284-ac77-4b46-e1ed-786faf63bc61"
      },
      "execution_count": 90,
      "outputs": [
        {
          "output_type": "stream",
          "name": "stdout",
          "text": [
            "<class 'pandas.core.frame.DataFrame'>\n",
            "RangeIndex: 231057 entries, 0 to 231056\n",
            "Data columns (total 6 columns):\n",
            " #   Column     Non-Null Count   Dtype  \n",
            "---  ------     --------------   -----  \n",
            " 0   City       231057 non-null  object \n",
            " 1   Location   206386 non-null  object \n",
            " 2   Bedrooms   225193 non-null  float64\n",
            " 3   Bathrooms  221926 non-null  float64\n",
            " 4   Parking    107061 non-null  float64\n",
            " 5   Price      230942 non-null  float64\n",
            "dtypes: float64(4), object(2)\n",
            "memory usage: 10.6+ MB\n"
          ]
        }
      ]
    },
    {
      "cell_type": "code",
      "source": [
        "data.duplicated().sum()"
      ],
      "metadata": {
        "colab": {
          "base_uri": "https://localhost:8080/"
        },
        "id": "VjZxen2_C7zw",
        "outputId": "cc17eb16-44da-4df5-b6a4-436aacf0b852"
      },
      "execution_count": 91,
      "outputs": [
        {
          "output_type": "execute_result",
          "data": {
            "text/plain": [
              "180791"
            ]
          },
          "metadata": {},
          "execution_count": 91
        }
      ]
    },
    {
      "cell_type": "code",
      "source": [
        "data.nunique().sum()"
      ],
      "metadata": {
        "colab": {
          "base_uri": "https://localhost:8080/"
        },
        "id": "v0fNOTuiEIRC",
        "outputId": "57f0e701-9732-4918-be59-86dbfc025b05"
      },
      "execution_count": 92,
      "outputs": [
        {
          "output_type": "execute_result",
          "data": {
            "text/plain": [
              "4023"
            ]
          },
          "metadata": {},
          "execution_count": 92
        }
      ]
    },
    {
      "cell_type": "code",
      "source": [
        "data.describe()"
      ],
      "metadata": {
        "colab": {
          "base_uri": "https://localhost:8080/",
          "height": 300
        },
        "id": "z5BRRN3UEWJe",
        "outputId": "f3b8815f-bc08-4171-996a-69e05ffb9af8"
      },
      "execution_count": 93,
      "outputs": [
        {
          "output_type": "execute_result",
          "data": {
            "text/plain": [
              "            Bedrooms     Bathrooms       Parking         Price\n",
              "count  225193.000000  2.219260e+05  1.070610e+05  2.309420e+05\n",
              "mean       13.236788  1.256053e+02  2.430523e+01  8.868090e+05\n",
              "std      1573.673088  4.934712e+04  3.502559e+03  5.224872e+07\n",
              "min         0.000000  0.000000e+00  0.000000e+00  0.000000e+00\n",
              "25%         2.000000  2.000000e+00  2.000000e+00  8.000000e+04\n",
              "50%         3.000000  3.000000e+00  2.000000e+00  1.500000e+05\n",
              "75%         4.000000  4.000000e+00  3.000000e+00  2.800000e+05\n",
              "max    360000.000000  2.323232e+07  1.121111e+06  1.550006e+10"
            ],
            "text/html": [
              "\n",
              "  <div id=\"df-ff455b1e-6b7d-4c31-904b-b29f7777d5be\" class=\"colab-df-container\">\n",
              "    <div>\n",
              "<style scoped>\n",
              "    .dataframe tbody tr th:only-of-type {\n",
              "        vertical-align: middle;\n",
              "    }\n",
              "\n",
              "    .dataframe tbody tr th {\n",
              "        vertical-align: top;\n",
              "    }\n",
              "\n",
              "    .dataframe thead th {\n",
              "        text-align: right;\n",
              "    }\n",
              "</style>\n",
              "<table border=\"1\" class=\"dataframe\">\n",
              "  <thead>\n",
              "    <tr style=\"text-align: right;\">\n",
              "      <th></th>\n",
              "      <th>Bedrooms</th>\n",
              "      <th>Bathrooms</th>\n",
              "      <th>Parking</th>\n",
              "      <th>Price</th>\n",
              "    </tr>\n",
              "  </thead>\n",
              "  <tbody>\n",
              "    <tr>\n",
              "      <th>count</th>\n",
              "      <td>225193.000000</td>\n",
              "      <td>2.219260e+05</td>\n",
              "      <td>1.070610e+05</td>\n",
              "      <td>2.309420e+05</td>\n",
              "    </tr>\n",
              "    <tr>\n",
              "      <th>mean</th>\n",
              "      <td>13.236788</td>\n",
              "      <td>1.256053e+02</td>\n",
              "      <td>2.430523e+01</td>\n",
              "      <td>8.868090e+05</td>\n",
              "    </tr>\n",
              "    <tr>\n",
              "      <th>std</th>\n",
              "      <td>1573.673088</td>\n",
              "      <td>4.934712e+04</td>\n",
              "      <td>3.502559e+03</td>\n",
              "      <td>5.224872e+07</td>\n",
              "    </tr>\n",
              "    <tr>\n",
              "      <th>min</th>\n",
              "      <td>0.000000</td>\n",
              "      <td>0.000000e+00</td>\n",
              "      <td>0.000000e+00</td>\n",
              "      <td>0.000000e+00</td>\n",
              "    </tr>\n",
              "    <tr>\n",
              "      <th>25%</th>\n",
              "      <td>2.000000</td>\n",
              "      <td>2.000000e+00</td>\n",
              "      <td>2.000000e+00</td>\n",
              "      <td>8.000000e+04</td>\n",
              "    </tr>\n",
              "    <tr>\n",
              "      <th>50%</th>\n",
              "      <td>3.000000</td>\n",
              "      <td>3.000000e+00</td>\n",
              "      <td>2.000000e+00</td>\n",
              "      <td>1.500000e+05</td>\n",
              "    </tr>\n",
              "    <tr>\n",
              "      <th>75%</th>\n",
              "      <td>4.000000</td>\n",
              "      <td>4.000000e+00</td>\n",
              "      <td>3.000000e+00</td>\n",
              "      <td>2.800000e+05</td>\n",
              "    </tr>\n",
              "    <tr>\n",
              "      <th>max</th>\n",
              "      <td>360000.000000</td>\n",
              "      <td>2.323232e+07</td>\n",
              "      <td>1.121111e+06</td>\n",
              "      <td>1.550006e+10</td>\n",
              "    </tr>\n",
              "  </tbody>\n",
              "</table>\n",
              "</div>\n",
              "    <div class=\"colab-df-buttons\">\n",
              "\n",
              "  <div class=\"colab-df-container\">\n",
              "    <button class=\"colab-df-convert\" onclick=\"convertToInteractive('df-ff455b1e-6b7d-4c31-904b-b29f7777d5be')\"\n",
              "            title=\"Convert this dataframe to an interactive table.\"\n",
              "            style=\"display:none;\">\n",
              "\n",
              "  <svg xmlns=\"http://www.w3.org/2000/svg\" height=\"24px\" viewBox=\"0 -960 960 960\">\n",
              "    <path d=\"M120-120v-720h720v720H120Zm60-500h600v-160H180v160Zm220 220h160v-160H400v160Zm0 220h160v-160H400v160ZM180-400h160v-160H180v160Zm440 0h160v-160H620v160ZM180-180h160v-160H180v160Zm440 0h160v-160H620v160Z\"/>\n",
              "  </svg>\n",
              "    </button>\n",
              "\n",
              "  <style>\n",
              "    .colab-df-container {\n",
              "      display:flex;\n",
              "      gap: 12px;\n",
              "    }\n",
              "\n",
              "    .colab-df-convert {\n",
              "      background-color: #E8F0FE;\n",
              "      border: none;\n",
              "      border-radius: 50%;\n",
              "      cursor: pointer;\n",
              "      display: none;\n",
              "      fill: #1967D2;\n",
              "      height: 32px;\n",
              "      padding: 0 0 0 0;\n",
              "      width: 32px;\n",
              "    }\n",
              "\n",
              "    .colab-df-convert:hover {\n",
              "      background-color: #E2EBFA;\n",
              "      box-shadow: 0px 1px 2px rgba(60, 64, 67, 0.3), 0px 1px 3px 1px rgba(60, 64, 67, 0.15);\n",
              "      fill: #174EA6;\n",
              "    }\n",
              "\n",
              "    .colab-df-buttons div {\n",
              "      margin-bottom: 4px;\n",
              "    }\n",
              "\n",
              "    [theme=dark] .colab-df-convert {\n",
              "      background-color: #3B4455;\n",
              "      fill: #D2E3FC;\n",
              "    }\n",
              "\n",
              "    [theme=dark] .colab-df-convert:hover {\n",
              "      background-color: #434B5C;\n",
              "      box-shadow: 0px 1px 3px 1px rgba(0, 0, 0, 0.15);\n",
              "      filter: drop-shadow(0px 1px 2px rgba(0, 0, 0, 0.3));\n",
              "      fill: #FFFFFF;\n",
              "    }\n",
              "  </style>\n",
              "\n",
              "    <script>\n",
              "      const buttonEl =\n",
              "        document.querySelector('#df-ff455b1e-6b7d-4c31-904b-b29f7777d5be button.colab-df-convert');\n",
              "      buttonEl.style.display =\n",
              "        google.colab.kernel.accessAllowed ? 'block' : 'none';\n",
              "\n",
              "      async function convertToInteractive(key) {\n",
              "        const element = document.querySelector('#df-ff455b1e-6b7d-4c31-904b-b29f7777d5be');\n",
              "        const dataTable =\n",
              "          await google.colab.kernel.invokeFunction('convertToInteractive',\n",
              "                                                    [key], {});\n",
              "        if (!dataTable) return;\n",
              "\n",
              "        const docLinkHtml = 'Like what you see? Visit the ' +\n",
              "          '<a target=\"_blank\" href=https://colab.research.google.com/notebooks/data_table.ipynb>data table notebook</a>'\n",
              "          + ' to learn more about interactive tables.';\n",
              "        element.innerHTML = '';\n",
              "        dataTable['output_type'] = 'display_data';\n",
              "        await google.colab.output.renderOutput(dataTable, element);\n",
              "        const docLink = document.createElement('div');\n",
              "        docLink.innerHTML = docLinkHtml;\n",
              "        element.appendChild(docLink);\n",
              "      }\n",
              "    </script>\n",
              "  </div>\n",
              "\n",
              "\n",
              "<div id=\"df-25a257f5-1100-47cb-a41b-803f5fdd5b6d\">\n",
              "  <button class=\"colab-df-quickchart\" onclick=\"quickchart('df-25a257f5-1100-47cb-a41b-803f5fdd5b6d')\"\n",
              "            title=\"Suggest charts.\"\n",
              "            style=\"display:none;\">\n",
              "\n",
              "<svg xmlns=\"http://www.w3.org/2000/svg\" height=\"24px\"viewBox=\"0 0 24 24\"\n",
              "     width=\"24px\">\n",
              "    <g>\n",
              "        <path d=\"M19 3H5c-1.1 0-2 .9-2 2v14c0 1.1.9 2 2 2h14c1.1 0 2-.9 2-2V5c0-1.1-.9-2-2-2zM9 17H7v-7h2v7zm4 0h-2V7h2v10zm4 0h-2v-4h2v4z\"/>\n",
              "    </g>\n",
              "</svg>\n",
              "  </button>\n",
              "\n",
              "<style>\n",
              "  .colab-df-quickchart {\n",
              "      --bg-color: #E8F0FE;\n",
              "      --fill-color: #1967D2;\n",
              "      --hover-bg-color: #E2EBFA;\n",
              "      --hover-fill-color: #174EA6;\n",
              "      --disabled-fill-color: #AAA;\n",
              "      --disabled-bg-color: #DDD;\n",
              "  }\n",
              "\n",
              "  [theme=dark] .colab-df-quickchart {\n",
              "      --bg-color: #3B4455;\n",
              "      --fill-color: #D2E3FC;\n",
              "      --hover-bg-color: #434B5C;\n",
              "      --hover-fill-color: #FFFFFF;\n",
              "      --disabled-bg-color: #3B4455;\n",
              "      --disabled-fill-color: #666;\n",
              "  }\n",
              "\n",
              "  .colab-df-quickchart {\n",
              "    background-color: var(--bg-color);\n",
              "    border: none;\n",
              "    border-radius: 50%;\n",
              "    cursor: pointer;\n",
              "    display: none;\n",
              "    fill: var(--fill-color);\n",
              "    height: 32px;\n",
              "    padding: 0;\n",
              "    width: 32px;\n",
              "  }\n",
              "\n",
              "  .colab-df-quickchart:hover {\n",
              "    background-color: var(--hover-bg-color);\n",
              "    box-shadow: 0 1px 2px rgba(60, 64, 67, 0.3), 0 1px 3px 1px rgba(60, 64, 67, 0.15);\n",
              "    fill: var(--button-hover-fill-color);\n",
              "  }\n",
              "\n",
              "  .colab-df-quickchart-complete:disabled,\n",
              "  .colab-df-quickchart-complete:disabled:hover {\n",
              "    background-color: var(--disabled-bg-color);\n",
              "    fill: var(--disabled-fill-color);\n",
              "    box-shadow: none;\n",
              "  }\n",
              "\n",
              "  .colab-df-spinner {\n",
              "    border: 2px solid var(--fill-color);\n",
              "    border-color: transparent;\n",
              "    border-bottom-color: var(--fill-color);\n",
              "    animation:\n",
              "      spin 1s steps(1) infinite;\n",
              "  }\n",
              "\n",
              "  @keyframes spin {\n",
              "    0% {\n",
              "      border-color: transparent;\n",
              "      border-bottom-color: var(--fill-color);\n",
              "      border-left-color: var(--fill-color);\n",
              "    }\n",
              "    20% {\n",
              "      border-color: transparent;\n",
              "      border-left-color: var(--fill-color);\n",
              "      border-top-color: var(--fill-color);\n",
              "    }\n",
              "    30% {\n",
              "      border-color: transparent;\n",
              "      border-left-color: var(--fill-color);\n",
              "      border-top-color: var(--fill-color);\n",
              "      border-right-color: var(--fill-color);\n",
              "    }\n",
              "    40% {\n",
              "      border-color: transparent;\n",
              "      border-right-color: var(--fill-color);\n",
              "      border-top-color: var(--fill-color);\n",
              "    }\n",
              "    60% {\n",
              "      border-color: transparent;\n",
              "      border-right-color: var(--fill-color);\n",
              "    }\n",
              "    80% {\n",
              "      border-color: transparent;\n",
              "      border-right-color: var(--fill-color);\n",
              "      border-bottom-color: var(--fill-color);\n",
              "    }\n",
              "    90% {\n",
              "      border-color: transparent;\n",
              "      border-bottom-color: var(--fill-color);\n",
              "    }\n",
              "  }\n",
              "</style>\n",
              "\n",
              "  <script>\n",
              "    async function quickchart(key) {\n",
              "      const quickchartButtonEl =\n",
              "        document.querySelector('#' + key + ' button');\n",
              "      quickchartButtonEl.disabled = true;  // To prevent multiple clicks.\n",
              "      quickchartButtonEl.classList.add('colab-df-spinner');\n",
              "      try {\n",
              "        const charts = await google.colab.kernel.invokeFunction(\n",
              "            'suggestCharts', [key], {});\n",
              "      } catch (error) {\n",
              "        console.error('Error during call to suggestCharts:', error);\n",
              "      }\n",
              "      quickchartButtonEl.classList.remove('colab-df-spinner');\n",
              "      quickchartButtonEl.classList.add('colab-df-quickchart-complete');\n",
              "    }\n",
              "    (() => {\n",
              "      let quickchartButtonEl =\n",
              "        document.querySelector('#df-25a257f5-1100-47cb-a41b-803f5fdd5b6d button');\n",
              "      quickchartButtonEl.style.display =\n",
              "        google.colab.kernel.accessAllowed ? 'block' : 'none';\n",
              "    })();\n",
              "  </script>\n",
              "</div>\n",
              "    </div>\n",
              "  </div>\n"
            ]
          },
          "metadata": {},
          "execution_count": 93
        }
      ]
    },
    {
      "cell_type": "markdown",
      "source": [
        "## Location\n"
      ],
      "metadata": {
        "id": "mtHzNWAH_uls"
      }
    },
    {
      "cell_type": "code",
      "source": [
        "data['Location'].info()"
      ],
      "metadata": {
        "id": "903sQihvGtIH",
        "colab": {
          "base_uri": "https://localhost:8080/"
        },
        "outputId": "7809de4f-82e7-442a-bd1d-bff7f0325a27"
      },
      "execution_count": 94,
      "outputs": [
        {
          "output_type": "stream",
          "name": "stdout",
          "text": [
            "<class 'pandas.core.series.Series'>\n",
            "RangeIndex: 231057 entries, 0 to 231056\n",
            "Series name: Location\n",
            "Non-Null Count   Dtype \n",
            "--------------   ----- \n",
            "206386 non-null  object\n",
            "dtypes: object(1)\n",
            "memory usage: 1.8+ MB\n"
          ]
        }
      ]
    },
    {
      "cell_type": "code",
      "source": [
        "data['Location'] = data['Location'].str.strip(' ,')"
      ],
      "metadata": {
        "id": "n-m7YUrlCKo2"
      },
      "execution_count": 95,
      "outputs": []
    },
    {
      "cell_type": "code",
      "source": [
        "data['Location'].value_counts()"
      ],
      "metadata": {
        "colab": {
          "base_uri": "https://localhost:8080/"
        },
        "id": "b1R5Pa7-AzqY",
        "outputId": "cf6d9457-fbe4-483b-b2ae-5ee786f89027"
      },
      "execution_count": 96,
      "outputs": [
        {
          "output_type": "execute_result",
          "data": {
            "text/plain": [
              "Lavington     35962\n",
              "Kilimani      26167\n",
              "Westlands     25451\n",
              "Kileleshwa    20980\n",
              "Runda         12770\n",
              "              ...  \n",
              "ONGATA            1\n",
              "Muthithi          1\n",
              "Green Park        1\n",
              "State             1\n",
              "GREENFIELD        1\n",
              "Name: Location, Length: 742, dtype: int64"
            ]
          },
          "metadata": {},
          "execution_count": 96
        }
      ]
    },
    {
      "cell_type": "code",
      "source": [
        "data['Location'].mode()"
      ],
      "metadata": {
        "colab": {
          "base_uri": "https://localhost:8080/"
        },
        "id": "7nOqAsLnx0aj",
        "outputId": "ffdde22d-906a-48a3-eb03-492abdfc5679"
      },
      "execution_count": 97,
      "outputs": [
        {
          "output_type": "execute_result",
          "data": {
            "text/plain": [
              "0    Lavington\n",
              "Name: Location, dtype: object"
            ]
          },
          "metadata": {},
          "execution_count": 97
        }
      ]
    },
    {
      "cell_type": "code",
      "source": [
        "impute_value = data['Location'].mode().iloc[0]\n",
        "\n",
        "data['Location'].fillna(impute_value, inplace=True)"
      ],
      "metadata": {
        "id": "-Dk9dHOM_Rsn"
      },
      "execution_count": 98,
      "outputs": []
    },
    {
      "cell_type": "code",
      "source": [
        "data['Location'].info()"
      ],
      "metadata": {
        "colab": {
          "base_uri": "https://localhost:8080/"
        },
        "id": "yL_H3E63ABEZ",
        "outputId": "c28f8d3c-123c-41ee-b7c4-fcb9ee1bb765"
      },
      "execution_count": 156,
      "outputs": [
        {
          "output_type": "stream",
          "name": "stdout",
          "text": [
            "<class 'pandas.core.series.Series'>\n",
            "RangeIndex: 231057 entries, 0 to 231056\n",
            "Series name: Location\n",
            "Non-Null Count   Dtype \n",
            "--------------   ----- \n",
            "231057 non-null  object\n",
            "dtypes: object(1)\n",
            "memory usage: 1.8+ MB\n"
          ]
        }
      ]
    },
    {
      "cell_type": "markdown",
      "source": [
        "## Bedrooms"
      ],
      "metadata": {
        "id": "jtdZhfthCvHr"
      }
    },
    {
      "cell_type": "code",
      "source": [
        "data['Bedrooms'].info()"
      ],
      "metadata": {
        "colab": {
          "base_uri": "https://localhost:8080/"
        },
        "id": "NSiCKbisA_PB",
        "outputId": "7fb540c5-5921-4993-df9e-ee475e09d32d"
      },
      "execution_count": 99,
      "outputs": [
        {
          "output_type": "stream",
          "name": "stdout",
          "text": [
            "<class 'pandas.core.series.Series'>\n",
            "RangeIndex: 231057 entries, 0 to 231056\n",
            "Series name: Bedrooms\n",
            "Non-Null Count   Dtype  \n",
            "--------------   -----  \n",
            "225193 non-null  float64\n",
            "dtypes: float64(1)\n",
            "memory usage: 1.8 MB\n"
          ]
        }
      ]
    },
    {
      "cell_type": "code",
      "source": [
        "data['Bedrooms'].isna().sum()"
      ],
      "metadata": {
        "colab": {
          "base_uri": "https://localhost:8080/"
        },
        "id": "NJuJbGI3IWD-",
        "outputId": "673c9302-af5e-4f15-910b-2314aa1524ee"
      },
      "execution_count": 100,
      "outputs": [
        {
          "output_type": "execute_result",
          "data": {
            "text/plain": [
              "5864"
            ]
          },
          "metadata": {},
          "execution_count": 100
        }
      ]
    },
    {
      "cell_type": "code",
      "source": [
        "data['Bedrooms'].describe()"
      ],
      "metadata": {
        "colab": {
          "base_uri": "https://localhost:8080/"
        },
        "id": "AgOpDqs8C0Sr",
        "outputId": "0e9cce46-10f7-4e58-913b-6252064e4be0"
      },
      "execution_count": 101,
      "outputs": [
        {
          "output_type": "execute_result",
          "data": {
            "text/plain": [
              "count    225193.000000\n",
              "mean         13.236788\n",
              "std        1573.673088\n",
              "min           0.000000\n",
              "25%           2.000000\n",
              "50%           3.000000\n",
              "75%           4.000000\n",
              "max      360000.000000\n",
              "Name: Bedrooms, dtype: float64"
            ]
          },
          "metadata": {},
          "execution_count": 101
        }
      ]
    },
    {
      "cell_type": "code",
      "source": [
        "data['Bedrooms'].fillna(data['Bedrooms'].median(), inplace=True)"
      ],
      "metadata": {
        "id": "6rlo4Z6DI6Os"
      },
      "execution_count": 102,
      "outputs": []
    },
    {
      "cell_type": "code",
      "source": [
        "data.info()"
      ],
      "metadata": {
        "colab": {
          "base_uri": "https://localhost:8080/"
        },
        "id": "zyOS9BJVJGvD",
        "outputId": "51e6b7cf-2209-43fd-c80c-066c553c7107"
      },
      "execution_count": 103,
      "outputs": [
        {
          "output_type": "stream",
          "name": "stdout",
          "text": [
            "<class 'pandas.core.frame.DataFrame'>\n",
            "RangeIndex: 231057 entries, 0 to 231056\n",
            "Data columns (total 6 columns):\n",
            " #   Column     Non-Null Count   Dtype  \n",
            "---  ------     --------------   -----  \n",
            " 0   City       231057 non-null  object \n",
            " 1   Location   231057 non-null  object \n",
            " 2   Bedrooms   231057 non-null  float64\n",
            " 3   Bathrooms  221926 non-null  float64\n",
            " 4   Parking    107061 non-null  float64\n",
            " 5   Price      230942 non-null  float64\n",
            "dtypes: float64(4), object(2)\n",
            "memory usage: 10.6+ MB\n"
          ]
        }
      ]
    },
    {
      "cell_type": "code",
      "source": [
        "sns.boxplot(data['Bedrooms'])"
      ],
      "metadata": {
        "colab": {
          "base_uri": "https://localhost:8080/",
          "height": 447
        },
        "id": "o8etcx0YDCLq",
        "outputId": "20c0a203-df0d-4770-b15a-64144ae837fa"
      },
      "execution_count": 104,
      "outputs": [
        {
          "output_type": "execute_result",
          "data": {
            "text/plain": [
              "<Axes: >"
            ]
          },
          "metadata": {},
          "execution_count": 104
        },
        {
          "output_type": "display_data",
          "data": {
            "text/plain": [
              "<Figure size 640x480 with 1 Axes>"
            ],
            "image/png": "[encoded data removed]"
          },
          "metadata": {}
        }
      ]
    },
    {
      "cell_type": "code",
      "source": [
        "from matplotlib.ticker import ScalarFormatter"
      ],
      "metadata": {
        "id": "yaxFOEBbGH1F"
      },
      "execution_count": 105,
      "outputs": []
    },
    {
      "cell_type": "code",
      "source": [
        "plt.scatter(data['Bedrooms'], data['Price'])\n",
        "plt.title('Bedrooms vs Price')\n",
        "plt.xlabel('Bedrooms')\n",
        "plt.ylabel('Price')\n",
        "plt.gca().xaxis.set_major_formatter(ScalarFormatter(useMathText=True))\n",
        "plt.gca().yaxis.set_major_formatter(ScalarFormatter(useMathText=True))\n",
        "plt.show()"
      ],
      "metadata": {
        "colab": {
          "base_uri": "https://localhost:8080/",
          "height": 472
        },
        "id": "TL_810geEESZ",
        "outputId": "f8d12396-10e9-4c5c-e4b9-5f84c0f7489c"
      },
      "execution_count": 106,
      "outputs": [
        {
          "output_type": "display_data",
          "data": {
            "text/plain": [
              "<Figure size 640x480 with 1 Axes>"
            ],
            "image/png": "[encoded data removed]"
          },
          "metadata": {}
        }
      ]
    },
    {
      "cell_type": "code",
      "source": [
        "data['Bedrooms'].info()"
      ],
      "metadata": {
        "colab": {
          "base_uri": "https://localhost:8080/"
        },
        "id": "z5Swj6YTJU5h",
        "outputId": "82890f89-cddc-42ca-cba8-6e161bdb1b90"
      },
      "execution_count": 107,
      "outputs": [
        {
          "output_type": "stream",
          "name": "stdout",
          "text": [
            "<class 'pandas.core.series.Series'>\n",
            "RangeIndex: 231057 entries, 0 to 231056\n",
            "Series name: Bedrooms\n",
            "Non-Null Count   Dtype  \n",
            "--------------   -----  \n",
            "231057 non-null  float64\n",
            "dtypes: float64(1)\n",
            "memory usage: 1.8 MB\n"
          ]
        }
      ]
    },
    {
      "cell_type": "code",
      "source": [
        "Q1 = np.percentile(data['Bedrooms'], 25, method='midpoint')\n",
        "Q3 = np.percentile(data['Bedrooms'], 75, method='midpoint')\n",
        "\n",
        "IQR = Q3 -  Q1\n",
        "print(Q1, Q3)"
      ],
      "metadata": {
        "colab": {
          "base_uri": "https://localhost:8080/"
        },
        "id": "dYu05dJJGt2w",
        "outputId": "c2091f6c-86a2-4240-a7d8-a2705777f594"
      },
      "execution_count": 108,
      "outputs": [
        {
          "output_type": "stream",
          "name": "stdout",
          "text": [
            "2.0 4.0\n"
          ]
        }
      ]
    },
    {
      "cell_type": "code",
      "source": [
        "upper =  Q3 + 1.5 * IQR\n",
        "lower =   Q1 - 1.5 * IQR\n",
        "upper_array = np.array(data['Bedrooms'] >= upper)\n",
        "lower_array = np.array(data['Bedrooms'] <= lower)\n",
        "\n",
        "print(lower, upper)\n",
        "print(f'Lower bond values {lower_array.sum()}, Upper bond values {upper_array.sum()}')"
      ],
      "metadata": {
        "colab": {
          "base_uri": "https://localhost:8080/"
        },
        "id": "XVoVFK-3HqPU",
        "outputId": "5e0b6f9e-530b-4091-e78a-09bc3e3f719a"
      },
      "execution_count": 109,
      "outputs": [
        {
          "output_type": "stream",
          "name": "stdout",
          "text": [
            "-1.0 7.0\n",
            "Lower bond values 0, Upper bond values 1902\n"
          ]
        }
      ]
    },
    {
      "cell_type": "code",
      "source": [
        "data['Bedrooms'].median()"
      ],
      "metadata": {
        "colab": {
          "base_uri": "https://localhost:8080/"
        },
        "id": "ppQF2pxsKqWl",
        "outputId": "a1859f6f-6da6-4ee1-a14c-742050bed84d"
      },
      "execution_count": 110,
      "outputs": [
        {
          "output_type": "execute_result",
          "data": {
            "text/plain": [
              "3.0"
            ]
          },
          "metadata": {},
          "execution_count": 110
        }
      ]
    },
    {
      "cell_type": "code",
      "source": [
        "upper_array"
      ],
      "metadata": {
        "colab": {
          "base_uri": "https://localhost:8080/"
        },
        "id": "U4St7OFkLppN",
        "outputId": "449cf5e6-0be6-42f6-d196-42fd49232af2"
      },
      "execution_count": 111,
      "outputs": [
        {
          "output_type": "execute_result",
          "data": {
            "text/plain": [
              "array([False, False, False, ..., False, False, False])"
            ]
          },
          "metadata": {},
          "execution_count": 111
        }
      ]
    },
    {
      "cell_type": "code",
      "source": [
        "np.unique(upper_array)"
      ],
      "metadata": {
        "colab": {
          "base_uri": "https://localhost:8080/"
        },
        "id": "0J3yAJ-BLuCY",
        "outputId": "d48efeae-fddc-4bd7-c4d4-fad742ba6305"
      },
      "execution_count": 112,
      "outputs": [
        {
          "output_type": "execute_result",
          "data": {
            "text/plain": [
              "array([False,  True])"
            ]
          },
          "metadata": {},
          "execution_count": 112
        }
      ]
    },
    {
      "cell_type": "code",
      "source": [
        "data.loc[upper_array, 'Bedrooms'] = data['Bedrooms'].median()"
      ],
      "metadata": {
        "id": "hWM9pvfWL0Fj"
      },
      "execution_count": 113,
      "outputs": []
    },
    {
      "cell_type": "code",
      "source": [
        "data['Bedrooms'].describe()"
      ],
      "metadata": {
        "colab": {
          "base_uri": "https://localhost:8080/"
        },
        "id": "0hm_r6BHNoiS",
        "outputId": "e97a0de3-d8f6-4efc-de13-5117e8bee382"
      },
      "execution_count": 114,
      "outputs": [
        {
          "output_type": "execute_result",
          "data": {
            "text/plain": [
              "count    231057.000000\n",
              "mean          3.234250\n",
              "std           1.249039\n",
              "min           0.000000\n",
              "25%           2.000000\n",
              "50%           3.000000\n",
              "75%           4.000000\n",
              "max           6.000000\n",
              "Name: Bedrooms, dtype: float64"
            ]
          },
          "metadata": {},
          "execution_count": 114
        }
      ]
    },
    {
      "cell_type": "code",
      "source": [
        "sns.boxplot(data['Bedrooms'])"
      ],
      "metadata": {
        "colab": {
          "base_uri": "https://localhost:8080/",
          "height": 447
        },
        "id": "ei64QKVQNsQU",
        "outputId": "8c0e53fd-a0f0-4777-cd19-1003a345ae4d"
      },
      "execution_count": 115,
      "outputs": [
        {
          "output_type": "execute_result",
          "data": {
            "text/plain": [
              "<Axes: >"
            ]
          },
          "metadata": {},
          "execution_count": 115
        },
        {
          "output_type": "display_data",
          "data": {
            "text/plain": [
              "<Figure size 640x480 with 1 Axes>"
            ],
            "image/png": "[encoded data removed]"
          },
          "metadata": {}
        }
      ]
    },
    {
      "cell_type": "markdown",
      "source": [
        "## Bathrooms"
      ],
      "metadata": {
        "id": "ZwJLD0lEOL7s"
      }
    },
    {
      "cell_type": "code",
      "source": [
        "data['Bathrooms'].info()"
      ],
      "metadata": {
        "colab": {
          "base_uri": "https://localhost:8080/"
        },
        "id": "grIYMpCzN6Ba",
        "outputId": "474b61dd-3a35-45a0-a5fc-b19f08b2203f"
      },
      "execution_count": 116,
      "outputs": [
        {
          "output_type": "stream",
          "name": "stdout",
          "text": [
            "<class 'pandas.core.series.Series'>\n",
            "RangeIndex: 231057 entries, 0 to 231056\n",
            "Series name: Bathrooms\n",
            "Non-Null Count   Dtype  \n",
            "--------------   -----  \n",
            "221926 non-null  float64\n",
            "dtypes: float64(1)\n",
            "memory usage: 1.8 MB\n"
          ]
        }
      ]
    },
    {
      "cell_type": "code",
      "source": [
        "data['Bathrooms'].fillna(data['Bathrooms'].median(), inplace=True)"
      ],
      "metadata": {
        "id": "Sr6AP0W2Qrr9"
      },
      "execution_count": 117,
      "outputs": []
    },
    {
      "cell_type": "code",
      "source": [
        "data['Bathrooms'].info()"
      ],
      "metadata": {
        "colab": {
          "base_uri": "https://localhost:8080/"
        },
        "id": "gqy1oqTVQ4ON",
        "outputId": "69d7577d-3f34-4166-c05a-b98f33a75d4f"
      },
      "execution_count": 118,
      "outputs": [
        {
          "output_type": "stream",
          "name": "stdout",
          "text": [
            "<class 'pandas.core.series.Series'>\n",
            "RangeIndex: 231057 entries, 0 to 231056\n",
            "Series name: Bathrooms\n",
            "Non-Null Count   Dtype  \n",
            "--------------   -----  \n",
            "231057 non-null  float64\n",
            "dtypes: float64(1)\n",
            "memory usage: 1.8 MB\n"
          ]
        }
      ]
    },
    {
      "cell_type": "code",
      "source": [
        "data['Bathrooms'].describe()"
      ],
      "metadata": {
        "colab": {
          "base_uri": "https://localhost:8080/"
        },
        "id": "hedO-civOS-h",
        "outputId": "420cecc6-a8b5-4c84-80dc-49fff49c1ca7"
      },
      "execution_count": 119,
      "outputs": [
        {
          "output_type": "execute_result",
          "data": {
            "text/plain": [
              "count    2.310570e+05\n",
              "mean     1.207602e+02\n",
              "std      4.836223e+04\n",
              "min      0.000000e+00\n",
              "25%      2.000000e+00\n",
              "50%      3.000000e+00\n",
              "75%      4.000000e+00\n",
              "max      2.323232e+07\n",
              "Name: Bathrooms, dtype: float64"
            ]
          },
          "metadata": {},
          "execution_count": 119
        }
      ]
    },
    {
      "cell_type": "code",
      "source": [
        "sns.boxplot(data['Bathrooms'])"
      ],
      "metadata": {
        "colab": {
          "base_uri": "https://localhost:8080/",
          "height": 462
        },
        "id": "pjMUpPN_OasZ",
        "outputId": "43c9f9ca-cdd3-49ee-ec88-ba61fbc02420"
      },
      "execution_count": 120,
      "outputs": [
        {
          "output_type": "execute_result",
          "data": {
            "text/plain": [
              "<Axes: >"
            ]
          },
          "metadata": {},
          "execution_count": 120
        },
        {
          "output_type": "display_data",
          "data": {
            "text/plain": [
              "<Figure size 640x480 with 1 Axes>"
            ],
            "image/png": "[encoded data removed]"
          },
          "metadata": {}
        }
      ]
    },
    {
      "cell_type": "code",
      "source": [
        "plt.scatter(data['Bathrooms'], data['Price'])\n",
        "plt.title('Bathrooms vs Price')\n",
        "plt.xlabel('Bathrooms')\n",
        "plt.ylabel('Price')\n",
        "plt.show()"
      ],
      "metadata": {
        "colab": {
          "base_uri": "https://localhost:8080/",
          "height": 472
        },
        "id": "yW3Z-n_NO47l",
        "outputId": "fb507a8c-7795-4951-9e12-fa6a6d4e9d98"
      },
      "execution_count": 121,
      "outputs": [
        {
          "output_type": "display_data",
          "data": {
            "text/plain": [
              "<Figure size 640x480 with 1 Axes>"
            ],
            "image/png": "[encoded data removed]"
          },
          "metadata": {}
        }
      ]
    },
    {
      "cell_type": "code",
      "source": [
        "Q1 = np.percentile(data['Bathrooms'], 25, method='midpoint')\n",
        "Q3 = np.percentile(data['Bathrooms'], 75, method='midpoint')\n",
        "\n",
        "IQR = Q3 - Q1"
      ],
      "metadata": {
        "id": "0ttkZWYDPWCX"
      },
      "execution_count": 122,
      "outputs": []
    },
    {
      "cell_type": "code",
      "source": [
        "upper =  Q3 + 1.5 * IQR\n",
        "lower =   Q1 - 1.5 * IQR\n",
        "upper_array = np.array(data['Bathrooms'] >= upper)\n",
        "lower_array = np.array(data['Bathrooms'] <= lower)\n",
        "\n",
        "print(lower, upper)\n",
        "print(f'Lower bond values {lower_array.sum()}, Upper bond values {upper_array.sum()}')"
      ],
      "metadata": {
        "colab": {
          "base_uri": "https://localhost:8080/"
        },
        "outputId": "83e1da06-a8bb-47ef-de28-e809ee5cf512",
        "id": "UnxZuUNnPtOb"
      },
      "execution_count": 123,
      "outputs": [
        {
          "output_type": "stream",
          "name": "stdout",
          "text": [
            "-1.0 7.0\n",
            "Lower bond values 0, Upper bond values 4996\n"
          ]
        }
      ]
    },
    {
      "cell_type": "code",
      "source": [
        "data.loc[upper_array, 'Bathrooms'] = data['Bathrooms'].median()"
      ],
      "metadata": {
        "id": "0zdZWkRrQfS9"
      },
      "execution_count": 124,
      "outputs": []
    },
    {
      "cell_type": "code",
      "source": [
        "data['Bathrooms'].describe()"
      ],
      "metadata": {
        "colab": {
          "base_uri": "https://localhost:8080/"
        },
        "id": "OiDmNMl8RQEo",
        "outputId": "a841d09c-783c-4b8a-9155-5b3f4565f786"
      },
      "execution_count": 125,
      "outputs": [
        {
          "output_type": "execute_result",
          "data": {
            "text/plain": [
              "count    231057.00000\n",
              "mean          3.20578\n",
              "std           1.34054\n",
              "min           0.00000\n",
              "25%           2.00000\n",
              "50%           3.00000\n",
              "75%           4.00000\n",
              "max           6.00000\n",
              "Name: Bathrooms, dtype: float64"
            ]
          },
          "metadata": {},
          "execution_count": 125
        }
      ]
    },
    {
      "cell_type": "code",
      "source": [
        "sns.boxplot(data['Bathrooms'])"
      ],
      "metadata": {
        "colab": {
          "base_uri": "https://localhost:8080/",
          "height": 447
        },
        "id": "wajE-PqbRWC1",
        "outputId": "80f8947e-d23f-4c16-e358-94de8914daff"
      },
      "execution_count": 126,
      "outputs": [
        {
          "output_type": "execute_result",
          "data": {
            "text/plain": [
              "<Axes: >"
            ]
          },
          "metadata": {},
          "execution_count": 126
        },
        {
          "output_type": "display_data",
          "data": {
            "text/plain": [
              "<Figure size 640x480 with 1 Axes>"
            ],
            "image/png": "[encoded data removed]"
          },
          "metadata": {}
        }
      ]
    },
    {
      "cell_type": "markdown",
      "source": [
        "## Parking"
      ],
      "metadata": {
        "id": "cSHPnpDRR7oR"
      }
    },
    {
      "cell_type": "code",
      "source": [
        "data['Parking'].info()"
      ],
      "metadata": {
        "colab": {
          "base_uri": "https://localhost:8080/"
        },
        "id": "K-rOchf9RzkI",
        "outputId": "c45dc6ca-e788-4b74-9cd1-e15324658712"
      },
      "execution_count": 127,
      "outputs": [
        {
          "output_type": "stream",
          "name": "stdout",
          "text": [
            "<class 'pandas.core.series.Series'>\n",
            "RangeIndex: 231057 entries, 0 to 231056\n",
            "Series name: Parking\n",
            "Non-Null Count   Dtype  \n",
            "--------------   -----  \n",
            "107061 non-null  float64\n",
            "dtypes: float64(1)\n",
            "memory usage: 1.8 MB\n"
          ]
        }
      ]
    },
    {
      "cell_type": "code",
      "source": [
        "data['Parking'].value_counts()"
      ],
      "metadata": {
        "colab": {
          "base_uri": "https://localhost:8080/"
        },
        "id": "XUzaUR1ASF_h",
        "outputId": "aa911a7c-fbac-4970-8a8a-ec5d564cac17"
      },
      "execution_count": 128,
      "outputs": [
        {
          "output_type": "execute_result",
          "data": {
            "text/plain": [
              "2.0          65841\n",
              "3.0          14380\n",
              "1.0           9379\n",
              "4.0           9306\n",
              "5.0           4778\n",
              "             ...  \n",
              "310.0            1\n",
              "789.0            1\n",
              "85.0             1\n",
              "750.0            1\n",
              "1121111.0        1\n",
              "Name: Parking, Length: 258, dtype: int64"
            ]
          },
          "metadata": {},
          "execution_count": 128
        }
      ]
    },
    {
      "cell_type": "code",
      "source": [
        "data['Parking'].describe()"
      ],
      "metadata": {
        "colab": {
          "base_uri": "https://localhost:8080/"
        },
        "id": "CMpyGZh4TfYA",
        "outputId": "024cf768-5367-4f91-a3c8-489bf1509470"
      },
      "execution_count": 129,
      "outputs": [
        {
          "output_type": "execute_result",
          "data": {
            "text/plain": [
              "count    1.070610e+05\n",
              "mean     2.430523e+01\n",
              "std      3.502559e+03\n",
              "min      0.000000e+00\n",
              "25%      2.000000e+00\n",
              "50%      2.000000e+00\n",
              "75%      3.000000e+00\n",
              "max      1.121111e+06\n",
              "Name: Parking, dtype: float64"
            ]
          },
          "metadata": {},
          "execution_count": 129
        }
      ]
    },
    {
      "cell_type": "code",
      "source": [
        "sns.boxplot(data['Parking'])"
      ],
      "metadata": {
        "colab": {
          "base_uri": "https://localhost:8080/",
          "height": 462
        },
        "id": "cBoa2qQGUVMY",
        "outputId": "88b39dd0-565e-4819-b454-8f0b8f6ce3ed"
      },
      "execution_count": 130,
      "outputs": [
        {
          "output_type": "execute_result",
          "data": {
            "text/plain": [
              "<Axes: >"
            ]
          },
          "metadata": {},
          "execution_count": 130
        },
        {
          "output_type": "display_data",
          "data": {
            "text/plain": [
              "<Figure size 640x480 with 1 Axes>"
            ],
            "image/png": "[encoded data removed]"
          },
          "metadata": {}
        }
      ]
    },
    {
      "cell_type": "code",
      "source": [
        "plt.scatter(data['Parking'], data['Price'])\n",
        "plt.title('Parking vs Price')\n",
        "plt.xlabel('Parking')\n",
        "plt.ylabel('Price')\n",
        "plt.show()"
      ],
      "metadata": {
        "colab": {
          "base_uri": "https://localhost:8080/",
          "height": 472
        },
        "id": "yDDA6vS1Up19",
        "outputId": "5fcb3f58-6269-4f3a-a432-cfc2aed2f117"
      },
      "execution_count": 131,
      "outputs": [
        {
          "output_type": "display_data",
          "data": {
            "text/plain": [
              "<Figure size 640x480 with 1 Axes>"
            ],
            "image/png": "[encoded data removed]"
          },
          "metadata": {}
        }
      ]
    },
    {
      "cell_type": "code",
      "source": [
        "mode_parking = data['Parking'].mode().values[0]\n",
        "print(mode_parking)"
      ],
      "metadata": {
        "colab": {
          "base_uri": "https://localhost:8080/"
        },
        "id": "fWDqbXtknZKn",
        "outputId": "d0ca16f0-4472-4d14-d2c5-def76539a2ab"
      },
      "execution_count": 132,
      "outputs": [
        {
          "output_type": "stream",
          "name": "stdout",
          "text": [
            "2.0\n"
          ]
        }
      ]
    },
    {
      "cell_type": "code",
      "source": [
        "\n",
        "for idx, val in enumerate(data['Parking']):\n",
        "  if pd.isnull(val):\n",
        "    if data.at[idx, 'Bedrooms']:\n",
        "      data.at[idx, 'Parking'] = 0\n",
        "    else:\n",
        "      data.at[idx, 'Parking'] = mode_parking"
      ],
      "metadata": {
        "id": "sLczO_YwVCxk"
      },
      "execution_count": 133,
      "outputs": []
    },
    {
      "cell_type": "code",
      "source": [
        "data['Parking'].info()"
      ],
      "metadata": {
        "colab": {
          "base_uri": "https://localhost:8080/"
        },
        "id": "uhk9W6E9Wh3q",
        "outputId": "5c3f87c9-dd13-44b7-dd17-eee902320112"
      },
      "execution_count": 134,
      "outputs": [
        {
          "output_type": "stream",
          "name": "stdout",
          "text": [
            "<class 'pandas.core.series.Series'>\n",
            "RangeIndex: 231057 entries, 0 to 231056\n",
            "Series name: Parking\n",
            "Non-Null Count   Dtype  \n",
            "--------------   -----  \n",
            "231057 non-null  float64\n",
            "dtypes: float64(1)\n",
            "memory usage: 1.8 MB\n"
          ]
        }
      ]
    },
    {
      "cell_type": "code",
      "source": [
        "data['Parking'].value_counts()"
      ],
      "metadata": {
        "colab": {
          "base_uri": "https://localhost:8080/"
        },
        "id": "BE_jOXyKoUuV",
        "outputId": "dd57a925-ef01-4f9e-9a1d-a93201b2bcfa"
      },
      "execution_count": 135,
      "outputs": [
        {
          "output_type": "execute_result",
          "data": {
            "text/plain": [
              "0.0          124447\n",
              "2.0           65851\n",
              "3.0           14380\n",
              "1.0            9379\n",
              "4.0            9306\n",
              "              ...  \n",
              "310.0             1\n",
              "789.0             1\n",
              "85.0              1\n",
              "750.0             1\n",
              "1121111.0         1\n",
              "Name: Parking, Length: 258, dtype: int64"
            ]
          },
          "metadata": {},
          "execution_count": 135
        }
      ]
    },
    {
      "cell_type": "code",
      "source": [
        "Q1 = np.percentile(data['Parking'], 25, method='midpoint')\n",
        "Q3 = np.percentile(data['Parking'], 75, method='midpoint')\n",
        "\n",
        "IQR = Q3 - Q1\n",
        "print(IQR)"
      ],
      "metadata": {
        "colab": {
          "base_uri": "https://localhost:8080/"
        },
        "id": "TF6OMU0zdQcf",
        "outputId": "5cedf2d6-4037-4faa-ca6d-aab679035fa8"
      },
      "execution_count": 136,
      "outputs": [
        {
          "output_type": "stream",
          "name": "stdout",
          "text": [
            "2.0\n"
          ]
        }
      ]
    },
    {
      "cell_type": "code",
      "source": [
        "upper = Q3 + 1.5 * IQR\n",
        "lower = Q1 - 1.5 * IQR\n",
        "\n",
        "upper_array = np.array(data['Parking'] >= upper)\n",
        "lower_array = np.array(data['Parking'] <= lower)\n",
        "\n",
        "print(lower, upper)\n",
        "print(f'Sum of values less than lower bound{lower_array.sum()} and those greater than upper bound {upper_array.sum()}')"
      ],
      "metadata": {
        "colab": {
          "base_uri": "https://localhost:8080/"
        },
        "id": "ScZsxyXF1o13",
        "outputId": "0738c49a-2196-4bb4-b4cd-e65cf10fd40d"
      },
      "execution_count": 137,
      "outputs": [
        {
          "output_type": "stream",
          "name": "stdout",
          "text": [
            "-3.0 5.0\n",
            "Sum of values less than lower bound0 and those greater than upper bound 7694\n"
          ]
        }
      ]
    },
    {
      "cell_type": "code",
      "source": [
        "data.loc[upper_array, 'Parking'] = data['Parking'].median()"
      ],
      "metadata": {
        "id": "qO4cHV3r2eC6"
      },
      "execution_count": 138,
      "outputs": []
    },
    {
      "cell_type": "code",
      "source": [
        "data['Parking'].describe()"
      ],
      "metadata": {
        "colab": {
          "base_uri": "https://localhost:8080/"
        },
        "id": "o5kaktUR3VYw",
        "outputId": "86ecf0ab-55b9-46f8-bcd9-269268df2af0"
      },
      "execution_count": 139,
      "outputs": [
        {
          "output_type": "execute_result",
          "data": {
            "text/plain": [
              "count    231057.000000\n",
              "mean          0.958400\n",
              "std           1.211032\n",
              "min           0.000000\n",
              "25%           0.000000\n",
              "50%           0.000000\n",
              "75%           2.000000\n",
              "max           4.000000\n",
              "Name: Parking, dtype: float64"
            ]
          },
          "metadata": {},
          "execution_count": 139
        }
      ]
    },
    {
      "cell_type": "code",
      "source": [
        "data['Parking'].value_counts()"
      ],
      "metadata": {
        "colab": {
          "base_uri": "https://localhost:8080/"
        },
        "id": "N2VXOwgQ3YgO",
        "outputId": "454a971e-9159-4ad6-d492-7eccc879c444"
      },
      "execution_count": 140,
      "outputs": [
        {
          "output_type": "execute_result",
          "data": {
            "text/plain": [
              "0.0    132141\n",
              "2.0     65851\n",
              "3.0     14380\n",
              "1.0      9379\n",
              "4.0      9306\n",
              "Name: Parking, dtype: int64"
            ]
          },
          "metadata": {},
          "execution_count": 140
        }
      ]
    },
    {
      "cell_type": "markdown",
      "source": [
        "## Price"
      ],
      "metadata": {
        "id": "f2T65XzOougH"
      }
    },
    {
      "cell_type": "code",
      "source": [
        "data['Price'].info()"
      ],
      "metadata": {
        "id": "Sdm5VTQR-AtV",
        "colab": {
          "base_uri": "https://localhost:8080/"
        },
        "outputId": "700a13c0-c25b-4f73-9438-4b31d6d44e44"
      },
      "execution_count": 141,
      "outputs": [
        {
          "output_type": "stream",
          "name": "stdout",
          "text": [
            "<class 'pandas.core.series.Series'>\n",
            "RangeIndex: 231057 entries, 0 to 231056\n",
            "Series name: Price\n",
            "Non-Null Count   Dtype  \n",
            "--------------   -----  \n",
            "230942 non-null  float64\n",
            "dtypes: float64(1)\n",
            "memory usage: 1.8 MB\n"
          ]
        }
      ]
    },
    {
      "cell_type": "code",
      "source": [
        "data['Price'].value_counts()"
      ],
      "metadata": {
        "colab": {
          "base_uri": "https://localhost:8080/"
        },
        "id": "VHDg8xMIo8bC",
        "outputId": "c800cce6-65d0-40ba-b8b9-ccc8b37e7130"
      },
      "execution_count": 142,
      "outputs": [
        {
          "output_type": "execute_result",
          "data": {
            "text/plain": [
              "250000.0     13528\n",
              "350000.0     10986\n",
              "150000.0     10687\n",
              "200000.0     10084\n",
              "300000.0      9781\n",
              "             ...  \n",
              "418800.0         1\n",
              "231710.0         1\n",
              "221445.0         1\n",
              "1057000.0        1\n",
              "89996.0          1\n",
              "Name: Price, Length: 1741, dtype: int64"
            ]
          },
          "metadata": {},
          "execution_count": 142
        }
      ]
    },
    {
      "cell_type": "code",
      "source": [
        "data['Price'].describe()"
      ],
      "metadata": {
        "colab": {
          "base_uri": "https://localhost:8080/"
        },
        "id": "JgNDJCP9pBsk",
        "outputId": "468bb391-f308-48ea-e464-6ef828bc31f9"
      },
      "execution_count": 143,
      "outputs": [
        {
          "output_type": "execute_result",
          "data": {
            "text/plain": [
              "count    2.309420e+05\n",
              "mean     8.868090e+05\n",
              "std      5.224872e+07\n",
              "min      0.000000e+00\n",
              "25%      8.000000e+04\n",
              "50%      1.500000e+05\n",
              "75%      2.800000e+05\n",
              "max      1.550006e+10\n",
              "Name: Price, dtype: float64"
            ]
          },
          "metadata": {},
          "execution_count": 143
        }
      ]
    },
    {
      "cell_type": "code",
      "source": [
        "data['Price'].isnull().sum()"
      ],
      "metadata": {
        "colab": {
          "base_uri": "https://localhost:8080/"
        },
        "id": "gD0IdmJSpFTG",
        "outputId": "5883819c-585f-4ca5-b55b-bd101494f08c"
      },
      "execution_count": 144,
      "outputs": [
        {
          "output_type": "execute_result",
          "data": {
            "text/plain": [
              "115"
            ]
          },
          "metadata": {},
          "execution_count": 144
        }
      ]
    },
    {
      "cell_type": "code",
      "source": [
        "data['Price'].fillna(data['Price'].median(), inplace=True)\n",
        "print(data['Price'].info())"
      ],
      "metadata": {
        "colab": {
          "base_uri": "https://localhost:8080/"
        },
        "id": "q6s0G5Kdpfgl",
        "outputId": "0d723444-fa85-455b-f42e-4360dd5e8b6c"
      },
      "execution_count": 145,
      "outputs": [
        {
          "output_type": "stream",
          "name": "stdout",
          "text": [
            "<class 'pandas.core.series.Series'>\n",
            "RangeIndex: 231057 entries, 0 to 231056\n",
            "Series name: Price\n",
            "Non-Null Count   Dtype  \n",
            "--------------   -----  \n",
            "231057 non-null  float64\n",
            "dtypes: float64(1)\n",
            "memory usage: 1.8 MB\n",
            "None\n"
          ]
        }
      ]
    },
    {
      "cell_type": "code",
      "source": [
        "sns.boxplot(data['Price'])"
      ],
      "metadata": {
        "colab": {
          "base_uri": "https://localhost:8080/",
          "height": 462
        },
        "id": "ycawMdbBp1g3",
        "outputId": "5b766158-b81f-4273-98b4-f678fd7bdf2d"
      },
      "execution_count": 146,
      "outputs": [
        {
          "output_type": "execute_result",
          "data": {
            "text/plain": [
              "<Axes: >"
            ]
          },
          "metadata": {},
          "execution_count": 146
        },
        {
          "output_type": "display_data",
          "data": {
            "text/plain": [
              "<Figure size 640x480 with 1 Axes>"
            ],
            "image/png": "[encoded data removed]"
          },
          "metadata": {}
        }
      ]
    },
    {
      "cell_type": "code",
      "source": [
        "Q1 = np.percentile(data['Price'], 25, method='midpoint')\n",
        "Q3 = np.percentile(data['Price'], 75, method='midpoint')\n",
        "\n",
        "IQR = Q3 - Q1\n",
        "\n",
        "print(f\"Q1: {Q1}, Q3: {Q3}, IQR: {IQR}\")"
      ],
      "metadata": {
        "colab": {
          "base_uri": "https://localhost:8080/"
        },
        "id": "MkyZFsKmp-FG",
        "outputId": "fd2e3d29-38c2-4b79-ac1a-a7b1a4802f24"
      },
      "execution_count": 147,
      "outputs": [
        {
          "output_type": "stream",
          "name": "stdout",
          "text": [
            "Q1: 80000.0, Q3: 280000.0, IQR: 200000.0\n"
          ]
        }
      ]
    },
    {
      "cell_type": "code",
      "source": [
        "lower = Q1 - 1.5 * IQR\n",
        "upper = Q3 + 1.5 * IQR\n",
        "\n",
        "print(lower, upper)"
      ],
      "metadata": {
        "colab": {
          "base_uri": "https://localhost:8080/"
        },
        "id": "OJzrzdM4qmn9",
        "outputId": "b63b717f-1c2d-45e5-c26b-5a130bc4dce6"
      },
      "execution_count": 148,
      "outputs": [
        {
          "output_type": "stream",
          "name": "stdout",
          "text": [
            "-220000.0 580000.0\n"
          ]
        }
      ]
    },
    {
      "cell_type": "code",
      "source": [
        "upper_array = np.array(data['Price'] >= upper)\n",
        "lower_array = np.array(data['Price'] <= lower)"
      ],
      "metadata": {
        "id": "UEyixub_q5UQ"
      },
      "execution_count": 149,
      "outputs": []
    },
    {
      "cell_type": "code",
      "source": [
        "print(len(lower_array), len(upper_array))"
      ],
      "metadata": {
        "colab": {
          "base_uri": "https://localhost:8080/"
        },
        "id": "2LTFDwkhrE6s",
        "outputId": "e25e9709-f2ac-47fc-d171-ed31dce1a5e9"
      },
      "execution_count": 150,
      "outputs": [
        {
          "output_type": "stream",
          "name": "stdout",
          "text": [
            "231057 231057\n"
          ]
        }
      ]
    },
    {
      "cell_type": "code",
      "source": [
        "data['Price'].median()"
      ],
      "metadata": {
        "colab": {
          "base_uri": "https://localhost:8080/"
        },
        "id": "5nb6iP9XsBck",
        "outputId": "8c05ab43-0ce6-4033-cc89-dc72d853c5db"
      },
      "execution_count": 151,
      "outputs": [
        {
          "output_type": "execute_result",
          "data": {
            "text/plain": [
              "150000.0"
            ]
          },
          "metadata": {},
          "execution_count": 151
        }
      ]
    },
    {
      "cell_type": "code",
      "source": [
        "data.loc[lower_array, 'Price'] = data['Price'].median()\n",
        "data.loc[upper_array, 'Price'] = data['Price'].median()"
      ],
      "metadata": {
        "id": "Y_NoqGturRqk"
      },
      "execution_count": 152,
      "outputs": []
    },
    {
      "cell_type": "code",
      "source": [
        "data['Price'].describe()"
      ],
      "metadata": {
        "colab": {
          "base_uri": "https://localhost:8080/"
        },
        "id": "GT-0RzxKrpoF",
        "outputId": "522af41a-6220-4ef8-b51c-913a52ae85fc"
      },
      "execution_count": 153,
      "outputs": [
        {
          "output_type": "execute_result",
          "data": {
            "text/plain": [
              "count    231057.000000\n",
              "mean     179259.512341\n",
              "std      122274.723709\n",
              "min           0.000000\n",
              "25%       80000.000000\n",
              "50%      150000.000000\n",
              "75%      250000.000000\n",
              "max      579800.000000\n",
              "Name: Price, dtype: float64"
            ]
          },
          "metadata": {},
          "execution_count": 153
        }
      ]
    },
    {
      "cell_type": "code",
      "source": [
        "sns.boxplot(data['Price'])"
      ],
      "metadata": {
        "colab": {
          "base_uri": "https://localhost:8080/",
          "height": 447
        },
        "id": "doOSW4TGrtaj",
        "outputId": "2211343d-91fc-4642-bce3-2bc59078287f"
      },
      "execution_count": 154,
      "outputs": [
        {
          "output_type": "execute_result",
          "data": {
            "text/plain": [
              "<Axes: >"
            ]
          },
          "metadata": {},
          "execution_count": 154
        },
        {
          "output_type": "display_data",
          "data": {
            "text/plain": [
              "<Figure size 640x480 with 1 Axes>"
            ],
            "image/png": "[encoded data removed]"
          },
          "metadata": {}
        }
      ]
    },
    {
      "cell_type": "code",
      "source": [
        "data.info()"
      ],
      "metadata": {
        "colab": {
          "base_uri": "https://localhost:8080/"
        },
        "id": "7VUh7ttjvqqf",
        "outputId": "38faf92b-a7f7-41e7-a4b5-bb2da1a88429"
      },
      "execution_count": 155,
      "outputs": [
        {
          "output_type": "stream",
          "name": "stdout",
          "text": [
            "<class 'pandas.core.frame.DataFrame'>\n",
            "RangeIndex: 231057 entries, 0 to 231056\n",
            "Data columns (total 6 columns):\n",
            " #   Column     Non-Null Count   Dtype  \n",
            "---  ------     --------------   -----  \n",
            " 0   City       231057 non-null  object \n",
            " 1   Location   231057 non-null  object \n",
            " 2   Bedrooms   231057 non-null  float64\n",
            " 3   Bathrooms  231057 non-null  float64\n",
            " 4   Parking    231057 non-null  float64\n",
            " 5   Price      231057 non-null  float64\n",
            "dtypes: float64(4), object(2)\n",
            "memory usage: 10.6+ MB\n"
          ]
        }
      ]
    },
    {
      "cell_type": "markdown",
      "source": [
        "## Distributions\n",
        "\n",
        "### Bedrooms"
      ],
      "metadata": {
        "id": "nUVYE74GAk7g"
      }
    },
    {
      "cell_type": "code",
      "source": [
        "sns.histplot(data=data['Bedrooms'], kde=True)\n",
        "plt.title(\"Bedrooms\")\n",
        "plt.show()"
      ],
      "metadata": {
        "id": "jCFbedegxDvX",
        "colab": {
          "base_uri": "https://localhost:8080/",
          "height": 472
        },
        "outputId": "972437d9-a4b0-4921-f888-b6d904454d9c"
      },
      "execution_count": 161,
      "outputs": [
        {
          "output_type": "display_data",
          "data": {
            "text/plain": [
              "<Figure size 640x480 with 1 Axes>"
            ],
            "image/png": "[encoded data removed]"
          },
          "metadata": {}
        }
      ]
    },
    {
      "cell_type": "markdown",
      "source": [
        "## Bathrooms"
      ],
      "metadata": {
        "id": "VZlpwhAdCgX0"
      }
    },
    {
      "cell_type": "code",
      "source": [
        "sns.histplot(data=data['Bathrooms'], kde=True)\n",
        "plt.title('Bathrooms')\n",
        "plt.show()"
      ],
      "metadata": {
        "colab": {
          "base_uri": "https://localhost:8080/",
          "height": 472
        },
        "id": "zLZjclyeB62Y",
        "outputId": "89bc10ff-2200-4c4d-9ee2-afd3c1bdae5e"
      },
      "execution_count": 170,
      "outputs": [
        {
          "output_type": "display_data",
          "data": {
            "text/plain": [
              "<Figure size 640x480 with 1 Axes>"
            ],
            "image/png": "[encoded data removed]"
          },
          "metadata": {}
        }
      ]
    },
    {
      "cell_type": "code",
      "source": [
        "sns.histplot(data=data['Parking'], kde=True)\n",
        "plt.title('Parking')\n",
        "plt.show()"
      ],
      "metadata": {
        "colab": {
          "base_uri": "https://localhost:8080/",
          "height": 472
        },
        "id": "F4ydMJ0DCqsS",
        "outputId": "1fc53381-a96c-48cc-86fd-8a330fdafd0c"
      },
      "execution_count": 171,
      "outputs": [
        {
          "output_type": "display_data",
          "data": {
            "text/plain": [
              "<Figure size 640x480 with 1 Axes>"
            ],
            "image/png": "[encoded data removed]"
          },
          "metadata": {}
        }
      ]
    },
    {
      "cell_type": "markdown",
      "source": [
        "### Price"
      ],
      "metadata": {
        "id": "T7LCmTm4DNPV"
      }
    },
    {
      "cell_type": "code",
      "source": [
        "sns.histplot(data=data['Price'], kde=True)\n",
        "plt.title(\"Price\")\n",
        "plt.show()"
      ],
      "metadata": {
        "colab": {
          "base_uri": "https://localhost:8080/",
          "height": 472
        },
        "id": "mmvWa1WHDF2G",
        "outputId": "3cebaa05-3f97-49ae-e128-786fa8daa246"
      },
      "execution_count": 172,
      "outputs": [
        {
          "output_type": "display_data",
          "data": {
            "text/plain": [
              "<Figure size 640x480 with 1 Axes>"
            ],
            "image/png": "[encoded data removed]"
          },
          "metadata": {}
        }
      ]
    },
    {
      "cell_type": "code",
      "source": [
        "data['Price'].describe()"
      ],
      "metadata": {
        "colab": {
          "base_uri": "https://localhost:8080/"
        },
        "id": "m7pLzo0hDYnX",
        "outputId": "79d98a9f-3c78-4eb2-d275-5f9c5cf34272"
      },
      "execution_count": 173,
      "outputs": [
        {
          "output_type": "execute_result",
          "data": {
            "text/plain": [
              "count    231057.000000\n",
              "mean     179259.512341\n",
              "std      122274.723709\n",
              "min           0.000000\n",
              "25%       80000.000000\n",
              "50%      150000.000000\n",
              "75%      250000.000000\n",
              "max      579800.000000\n",
              "Name: Price, dtype: float64"
            ]
          },
          "metadata": {},
          "execution_count": 173
        }
      ]
    },
    {
      "cell_type": "code",
      "source": [
        "data[data['Price']== 0].value_counts()"
      ],
      "metadata": {
        "colab": {
          "base_uri": "https://localhost:8080/"
        },
        "id": "3NeLqCYCECQB",
        "outputId": "156b0cea-2145-4a74-b226-f11355d4631d"
      },
      "execution_count": 175,
      "outputs": [
        {
          "output_type": "execute_result",
          "data": {
            "text/plain": [
              "City     Location    Bedrooms  Bathrooms  Parking  Price\n",
              "Nairobi  Kileleshwa  0.0       0.0        0.0      0.0      1\n",
              "         Kilimani    0.0       0.0        0.0      0.0      1\n",
              "         Lavington   0.0       0.0        0.0      0.0      1\n",
              "         Westlands   0.0       0.0        0.0      0.0      1\n",
              "dtype: int64"
            ]
          },
          "metadata": {},
          "execution_count": 175
        }
      ]
    },
    {
      "cell_type": "code",
      "source": [],
      "metadata": {
        "id": "9KjC6rfdEsBs"
      },
      "execution_count": null,
      "outputs": []
    }
  ]
}