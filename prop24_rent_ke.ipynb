{
 "cells": [
  {
   "cell_type": "markdown",
   "metadata": {},
   "source": [
    "# Data Type Conversion\n",
    "\n",
    "Notebook to convert the numerical datatypes in 2 csv's to integer"
   ]
  },
  {
   "cell_type": "code",
   "execution_count": 66,
   "metadata": {},
   "outputs": [],
   "source": [
    "import pandas as pd"
   ]
  },
  {
   "cell_type": "code",
   "execution_count": 67,
   "metadata": {},
   "outputs": [],
   "source": [
    "prop24 = pd.read_csv('data/final/property24.csv')\n",
    "rent_ke = pd.read_csv('data/final/rent_ke_final.csv')"
   ]
  },
  {
   "cell_type": "markdown",
   "metadata": {},
   "source": [
    "## Brief peek on the datasets"
   ]
  },
  {
   "cell_type": "code",
   "execution_count": 68,
   "metadata": {},
   "outputs": [
    {
     "data": {
      "text/html": [
       "<div>\n",
       "<style scoped>\n",
       "    .dataframe tbody tr th:only-of-type {\n",
       "        vertical-align: middle;\n",
       "    }\n",
       "\n",
       "    .dataframe tbody tr th {\n",
       "        vertical-align: top;\n",
       "    }\n",
       "\n",
       "    .dataframe thead th {\n",
       "        text-align: right;\n",
       "    }\n",
       "</style>\n",
       "<table border=\"1\" class=\"dataframe\">\n",
       "  <thead>\n",
       "    <tr style=\"text-align: right;\">\n",
       "      <th></th>\n",
       "      <th>Location</th>\n",
       "      <th>City</th>\n",
       "      <th>Bedrooms</th>\n",
       "      <th>Bathrooms</th>\n",
       "      <th>Parking</th>\n",
       "      <th>Price</th>\n",
       "    </tr>\n",
       "  </thead>\n",
       "  <tbody>\n",
       "    <tr>\n",
       "      <th>0</th>\n",
       "      <td>South B</td>\n",
       "      <td>Nairobi</td>\n",
       "      <td>1</td>\n",
       "      <td>1</td>\n",
       "      <td>NaN</td>\n",
       "      <td>KSh 25 000</td>\n",
       "    </tr>\n",
       "    <tr>\n",
       "      <th>1</th>\n",
       "      <td>Karen</td>\n",
       "      <td>Nairobi</td>\n",
       "      <td>3</td>\n",
       "      <td>2</td>\n",
       "      <td>Erf Size:\\n\\n                            0.5\\n...</td>\n",
       "      <td>KSh 280 000</td>\n",
       "    </tr>\n",
       "    <tr>\n",
       "      <th>2</th>\n",
       "      <td>Rosslyn</td>\n",
       "      <td>Nairobi</td>\n",
       "      <td>2</td>\n",
       "      <td>2</td>\n",
       "      <td>NaN</td>\n",
       "      <td>KSh 170 000</td>\n",
       "    </tr>\n",
       "    <tr>\n",
       "      <th>3</th>\n",
       "      <td>Syokimau</td>\n",
       "      <td>Nairobi</td>\n",
       "      <td>2</td>\n",
       "      <td>2</td>\n",
       "      <td>2</td>\n",
       "      <td>KSh 28 000</td>\n",
       "    </tr>\n",
       "    <tr>\n",
       "      <th>4</th>\n",
       "      <td>Kileleshwa</td>\n",
       "      <td>Nairobi</td>\n",
       "      <td>3</td>\n",
       "      <td>3</td>\n",
       "      <td>NaN</td>\n",
       "      <td>KSh 150 000</td>\n",
       "    </tr>\n",
       "  </tbody>\n",
       "</table>\n",
       "</div>"
      ],
      "text/plain": [
       "      Location      City Bedrooms Bathrooms  \\\n",
       "0      South B   Nairobi        1         1   \n",
       "1        Karen   Nairobi        3         2   \n",
       "2      Rosslyn   Nairobi        2         2   \n",
       "3     Syokimau   Nairobi        2         2   \n",
       "4   Kileleshwa   Nairobi        3         3   \n",
       "\n",
       "                                             Parking        Price  \n",
       "0                                                NaN   KSh 25 000  \n",
       "1  Erf Size:\\n\\n                            0.5\\n...  KSh 280 000  \n",
       "2                                                NaN  KSh 170 000  \n",
       "3                                                  2   KSh 28 000  \n",
       "4                                                NaN  KSh 150 000  "
      ]
     },
     "execution_count": 68,
     "metadata": {},
     "output_type": "execute_result"
    }
   ],
   "source": [
    "prop24.head()"
   ]
  },
  {
   "cell_type": "markdown",
   "metadata": {},
   "source": [
    "the dataset has 4 numerical columns `Bedrooms, Bathrooms, Parking and Price`"
   ]
  },
  {
   "cell_type": "code",
   "execution_count": 69,
   "metadata": {},
   "outputs": [
    {
     "name": "stdout",
     "output_type": "stream",
     "text": [
      "<class 'pandas.core.frame.DataFrame'>\n",
      "RangeIndex: 211995 entries, 0 to 211994\n",
      "Data columns (total 6 columns):\n",
      " #   Column     Non-Null Count   Dtype \n",
      "---  ------     --------------   ----- \n",
      " 0   Location   188149 non-null  object\n",
      " 1   City       188149 non-null  object\n",
      " 2   Bedrooms   208776 non-null  object\n",
      " 3   Bathrooms  204590 non-null  object\n",
      " 4   Parking    123037 non-null  object\n",
      " 5   Price      211995 non-null  object\n",
      "dtypes: object(6)\n",
      "memory usage: 9.7+ MB\n"
     ]
    }
   ],
   "source": [
    "prop24.info()"
   ]
  },
  {
   "cell_type": "markdown",
   "metadata": {},
   "source": [
    "looking at the overview of the columns and their datatypes\n",
    "\n",
    "Currently, all the columns are objects which is not entirely what we want since some columns hold numerical values\n",
    "\n",
    "Let's conver them to integer types"
   ]
  },
  {
   "cell_type": "code",
   "execution_count": 70,
   "metadata": {},
   "outputs": [
    {
     "data": {
      "text/plain": [
       "3                                                                                                              56751\n",
       "4                                                                                                              50267\n",
       "2                                                                                                              41705\n",
       "5                                                                                                              38179\n",
       "1                                                                                                              13777\n",
       "                                                                                                               ...  \n",
       "Floor Size:\\n\\r\\n                            294\\r\\n                        \\r\\n                        m²         1\n",
       "Erf Size:\\n\\r\\n                            199.27\\r\\n                        \\r\\n                        m²        1\n",
       "Erf Size:\\n\\r\\n                            692.13\\r\\n                        \\r\\n                        m²        1\n",
       "Floor Size:\\n\\r\\n                            47\\r\\n                        \\r\\n                        m²          1\n",
       "Erf Size:\\n\\r\\n                            30\\r\\n                        \\r\\n                        m²            1\n",
       "Name: Bedrooms, Length: 1009, dtype: int64"
      ]
     },
     "execution_count": 70,
     "metadata": {},
     "output_type": "execute_result"
    }
   ],
   "source": [
    "# let's look at the unique numbers of the bedrooms in houses\n",
    "prop24['Bedrooms'].value_counts()"
   ]
  },
  {
   "cell_type": "markdown",
   "metadata": {},
   "source": [
    "We have somewhat inconsistent data, this comes with the fact the data was scrapped and sometime irrelevant data was captured.\n",
    "However, this should not worry us, we'll use `pd.to_numeric` pandas method that converts non-numeric data to `NaN`, thus we'll get rid of the data"
   ]
  },
  {
   "cell_type": "code",
   "execution_count": 71,
   "metadata": {},
   "outputs": [],
   "source": [
    "prop24['Bedrooms'] = pd.to_numeric(prop24['Bedrooms'], 'coerce')"
   ]
  },
  {
   "cell_type": "code",
   "execution_count": 72,
   "metadata": {},
   "outputs": [
    {
     "name": "stdout",
     "output_type": "stream",
     "text": [
      "<class 'pandas.core.frame.DataFrame'>\n",
      "RangeIndex: 211995 entries, 0 to 211994\n",
      "Data columns (total 6 columns):\n",
      " #   Column     Non-Null Count   Dtype  \n",
      "---  ------     --------------   -----  \n",
      " 0   Location   188149 non-null  object \n",
      " 1   City       188149 non-null  object \n",
      " 2   Bedrooms   206572 non-null  float64\n",
      " 3   Bathrooms  204590 non-null  object \n",
      " 4   Parking    123037 non-null  object \n",
      " 5   Price      211995 non-null  object \n",
      "dtypes: float64(1), object(5)\n",
      "memory usage: 9.7+ MB\n"
     ]
    }
   ],
   "source": [
    "prop24.info()"
   ]
  },
  {
   "cell_type": "markdown",
   "metadata": {},
   "source": [
    "well well, what do we have here? We've converted the column `Bedrooms` to float64 datatype. We've converted the columns to a numeric datatype but that's not really the type we want, we want the column to be of the type `int64`.\n",
    "Let's now convert the type to the data type then using the `astype method`"
   ]
  },
  {
   "cell_type": "code",
   "execution_count": 73,
   "metadata": {},
   "outputs": [],
   "source": [
    "prop24['Bedrooms'] = prop24['Bedrooms'].round().astype('Int64')"
   ]
  },
  {
   "cell_type": "code",
   "execution_count": 74,
   "metadata": {},
   "outputs": [
    {
     "name": "stdout",
     "output_type": "stream",
     "text": [
      "<class 'pandas.core.frame.DataFrame'>\n",
      "RangeIndex: 211995 entries, 0 to 211994\n",
      "Data columns (total 6 columns):\n",
      " #   Column     Non-Null Count   Dtype \n",
      "---  ------     --------------   ----- \n",
      " 0   Location   188149 non-null  object\n",
      " 1   City       188149 non-null  object\n",
      " 2   Bedrooms   206572 non-null  Int64 \n",
      " 3   Bathrooms  204590 non-null  object\n",
      " 4   Parking    123037 non-null  object\n",
      " 5   Price      211995 non-null  object\n",
      "dtypes: Int64(1), object(5)\n",
      "memory usage: 9.9+ MB\n"
     ]
    }
   ],
   "source": [
    "prop24.info()"
   ]
  },
  {
   "cell_type": "markdown",
   "metadata": {},
   "source": [
    "Magic right, but do we have to repeat the same process for every column/dataset, nope, a function would come in handy"
   ]
  },
  {
   "cell_type": "code",
   "execution_count": 75,
   "metadata": {},
   "outputs": [],
   "source": [
    "def covert_to_int(data: pd.DataFrame, col_list):\n",
    "    for col in col_list:\n",
    "        try:\n",
    "            data[col] = strip_comma(data, col) # stri[ comma\n",
    "        except:\n",
    "            pass\n",
    "        try:\n",
    "            data[col] = convert_to_numeric(data, col) # convert from object to float64 dtype\n",
    "        except:\n",
    "            pass\n",
    "        try:      \n",
    "            data[col] = data[col].round().astype('Int64')\n",
    "        except:\n",
    "            pass       \n",
    "    return data\n",
    "\n",
    "def strip_comma(data: pd.DataFrame, col_name):\n",
    "    data[col_name] = data[col_name].str.replace(',', '')\n",
    "    return data\n",
    "\n",
    "def convert_to_numeric(data: pd.DataFrame, col_name):\n",
    "    data[col_name] = pd.to_numeric(data[col_name], 'coerce')\n",
    "    return data"
   ]
  },
  {
   "cell_type": "code",
   "execution_count": 76,
   "metadata": {},
   "outputs": [
    {
     "data": {
      "text/html": [
       "<div>\n",
       "<style scoped>\n",
       "    .dataframe tbody tr th:only-of-type {\n",
       "        vertical-align: middle;\n",
       "    }\n",
       "\n",
       "    .dataframe tbody tr th {\n",
       "        vertical-align: top;\n",
       "    }\n",
       "\n",
       "    .dataframe thead th {\n",
       "        text-align: right;\n",
       "    }\n",
       "</style>\n",
       "<table border=\"1\" class=\"dataframe\">\n",
       "  <thead>\n",
       "    <tr style=\"text-align: right;\">\n",
       "      <th></th>\n",
       "      <th>Location</th>\n",
       "      <th>City</th>\n",
       "      <th>Bedrooms</th>\n",
       "      <th>Bathrooms</th>\n",
       "      <th>Parking</th>\n",
       "      <th>Price</th>\n",
       "    </tr>\n",
       "  </thead>\n",
       "  <tbody>\n",
       "    <tr>\n",
       "      <th>0</th>\n",
       "      <td>South B</td>\n",
       "      <td>Nairobi</td>\n",
       "      <td>1</td>\n",
       "      <td>1</td>\n",
       "      <td>NaN</td>\n",
       "      <td>KSh 25 000</td>\n",
       "    </tr>\n",
       "    <tr>\n",
       "      <th>1</th>\n",
       "      <td>Karen</td>\n",
       "      <td>Nairobi</td>\n",
       "      <td>3</td>\n",
       "      <td>2</td>\n",
       "      <td>Erf Size:\\n\\n                            0.5\\n...</td>\n",
       "      <td>KSh 280 000</td>\n",
       "    </tr>\n",
       "    <tr>\n",
       "      <th>2</th>\n",
       "      <td>Rosslyn</td>\n",
       "      <td>Nairobi</td>\n",
       "      <td>2</td>\n",
       "      <td>2</td>\n",
       "      <td>NaN</td>\n",
       "      <td>KSh 170 000</td>\n",
       "    </tr>\n",
       "    <tr>\n",
       "      <th>3</th>\n",
       "      <td>Syokimau</td>\n",
       "      <td>Nairobi</td>\n",
       "      <td>2</td>\n",
       "      <td>2</td>\n",
       "      <td>2</td>\n",
       "      <td>KSh 28 000</td>\n",
       "    </tr>\n",
       "    <tr>\n",
       "      <th>4</th>\n",
       "      <td>Kileleshwa</td>\n",
       "      <td>Nairobi</td>\n",
       "      <td>3</td>\n",
       "      <td>3</td>\n",
       "      <td>NaN</td>\n",
       "      <td>KSh 150 000</td>\n",
       "    </tr>\n",
       "  </tbody>\n",
       "</table>\n",
       "</div>"
      ],
      "text/plain": [
       "      Location      City  Bedrooms Bathrooms  \\\n",
       "0      South B   Nairobi         1         1   \n",
       "1        Karen   Nairobi         3         2   \n",
       "2      Rosslyn   Nairobi         2         2   \n",
       "3     Syokimau   Nairobi         2         2   \n",
       "4   Kileleshwa   Nairobi         3         3   \n",
       "\n",
       "                                             Parking        Price  \n",
       "0                                                NaN   KSh 25 000  \n",
       "1  Erf Size:\\n\\n                            0.5\\n...  KSh 280 000  \n",
       "2                                                NaN  KSh 170 000  \n",
       "3                                                  2   KSh 28 000  \n",
       "4                                                NaN  KSh 150 000  "
      ]
     },
     "execution_count": 76,
     "metadata": {},
     "output_type": "execute_result"
    }
   ],
   "source": [
    "prop24.head()"
   ]
  },
  {
   "cell_type": "code",
   "execution_count": 77,
   "metadata": {},
   "outputs": [],
   "source": [
    "prop24['Price'] = prop24['Price'].str.replace('KSh ', '')\n",
    "prop24['Price'] = prop24['Price'].str.replace(' ', '')"
   ]
  },
  {
   "cell_type": "code",
   "execution_count": 78,
   "metadata": {},
   "outputs": [
    {
     "data": {
      "text/html": [
       "<div>\n",
       "<style scoped>\n",
       "    .dataframe tbody tr th:only-of-type {\n",
       "        vertical-align: middle;\n",
       "    }\n",
       "\n",
       "    .dataframe tbody tr th {\n",
       "        vertical-align: top;\n",
       "    }\n",
       "\n",
       "    .dataframe thead th {\n",
       "        text-align: right;\n",
       "    }\n",
       "</style>\n",
       "<table border=\"1\" class=\"dataframe\">\n",
       "  <thead>\n",
       "    <tr style=\"text-align: right;\">\n",
       "      <th></th>\n",
       "      <th>Location</th>\n",
       "      <th>City</th>\n",
       "      <th>Bedrooms</th>\n",
       "      <th>Bathrooms</th>\n",
       "      <th>Parking</th>\n",
       "      <th>Price</th>\n",
       "    </tr>\n",
       "  </thead>\n",
       "  <tbody>\n",
       "    <tr>\n",
       "      <th>0</th>\n",
       "      <td>South B</td>\n",
       "      <td>Nairobi</td>\n",
       "      <td>1</td>\n",
       "      <td>1</td>\n",
       "      <td>NaN</td>\n",
       "      <td>25000</td>\n",
       "    </tr>\n",
       "    <tr>\n",
       "      <th>1</th>\n",
       "      <td>Karen</td>\n",
       "      <td>Nairobi</td>\n",
       "      <td>3</td>\n",
       "      <td>2</td>\n",
       "      <td>Erf Size:\\n\\n                            0.5\\n...</td>\n",
       "      <td>280000</td>\n",
       "    </tr>\n",
       "    <tr>\n",
       "      <th>2</th>\n",
       "      <td>Rosslyn</td>\n",
       "      <td>Nairobi</td>\n",
       "      <td>2</td>\n",
       "      <td>2</td>\n",
       "      <td>NaN</td>\n",
       "      <td>170000</td>\n",
       "    </tr>\n",
       "    <tr>\n",
       "      <th>3</th>\n",
       "      <td>Syokimau</td>\n",
       "      <td>Nairobi</td>\n",
       "      <td>2</td>\n",
       "      <td>2</td>\n",
       "      <td>2</td>\n",
       "      <td>28000</td>\n",
       "    </tr>\n",
       "    <tr>\n",
       "      <th>4</th>\n",
       "      <td>Kileleshwa</td>\n",
       "      <td>Nairobi</td>\n",
       "      <td>3</td>\n",
       "      <td>3</td>\n",
       "      <td>NaN</td>\n",
       "      <td>150000</td>\n",
       "    </tr>\n",
       "  </tbody>\n",
       "</table>\n",
       "</div>"
      ],
      "text/plain": [
       "      Location      City  Bedrooms Bathrooms  \\\n",
       "0      South B   Nairobi         1         1   \n",
       "1        Karen   Nairobi         3         2   \n",
       "2      Rosslyn   Nairobi         2         2   \n",
       "3     Syokimau   Nairobi         2         2   \n",
       "4   Kileleshwa   Nairobi         3         3   \n",
       "\n",
       "                                             Parking   Price  \n",
       "0                                                NaN   25000  \n",
       "1  Erf Size:\\n\\n                            0.5\\n...  280000  \n",
       "2                                                NaN  170000  \n",
       "3                                                  2   28000  \n",
       "4                                                NaN  150000  "
      ]
     },
     "execution_count": 78,
     "metadata": {},
     "output_type": "execute_result"
    }
   ],
   "source": [
    "prop24.head()"
   ]
  },
  {
   "cell_type": "code",
   "execution_count": 79,
   "metadata": {},
   "outputs": [],
   "source": [
    "columns = ['Bedrooms', 'Bathrooms', 'Parking', 'Price']\n",
    "prop_24_new = covert_to_int(prop24, columns)"
   ]
  },
  {
   "cell_type": "code",
   "execution_count": 80,
   "metadata": {},
   "outputs": [
    {
     "data": {
      "text/html": [
       "<div>\n",
       "<style scoped>\n",
       "    .dataframe tbody tr th:only-of-type {\n",
       "        vertical-align: middle;\n",
       "    }\n",
       "\n",
       "    .dataframe tbody tr th {\n",
       "        vertical-align: top;\n",
       "    }\n",
       "\n",
       "    .dataframe thead th {\n",
       "        text-align: right;\n",
       "    }\n",
       "</style>\n",
       "<table border=\"1\" class=\"dataframe\">\n",
       "  <thead>\n",
       "    <tr style=\"text-align: right;\">\n",
       "      <th></th>\n",
       "      <th>Location</th>\n",
       "      <th>City</th>\n",
       "      <th>Bedrooms</th>\n",
       "      <th>Bathrooms</th>\n",
       "      <th>Parking</th>\n",
       "      <th>Price</th>\n",
       "    </tr>\n",
       "  </thead>\n",
       "  <tbody>\n",
       "    <tr>\n",
       "      <th>0</th>\n",
       "      <td>South B</td>\n",
       "      <td>Nairobi</td>\n",
       "      <td>1</td>\n",
       "      <td>1</td>\n",
       "      <td>&lt;NA&gt;</td>\n",
       "      <td>25000</td>\n",
       "    </tr>\n",
       "    <tr>\n",
       "      <th>1</th>\n",
       "      <td>Karen</td>\n",
       "      <td>Nairobi</td>\n",
       "      <td>3</td>\n",
       "      <td>2</td>\n",
       "      <td>&lt;NA&gt;</td>\n",
       "      <td>280000</td>\n",
       "    </tr>\n",
       "    <tr>\n",
       "      <th>2</th>\n",
       "      <td>Rosslyn</td>\n",
       "      <td>Nairobi</td>\n",
       "      <td>2</td>\n",
       "      <td>2</td>\n",
       "      <td>&lt;NA&gt;</td>\n",
       "      <td>170000</td>\n",
       "    </tr>\n",
       "    <tr>\n",
       "      <th>3</th>\n",
       "      <td>Syokimau</td>\n",
       "      <td>Nairobi</td>\n",
       "      <td>2</td>\n",
       "      <td>2</td>\n",
       "      <td>2</td>\n",
       "      <td>28000</td>\n",
       "    </tr>\n",
       "    <tr>\n",
       "      <th>4</th>\n",
       "      <td>Kileleshwa</td>\n",
       "      <td>Nairobi</td>\n",
       "      <td>3</td>\n",
       "      <td>3</td>\n",
       "      <td>&lt;NA&gt;</td>\n",
       "      <td>150000</td>\n",
       "    </tr>\n",
       "  </tbody>\n",
       "</table>\n",
       "</div>"
      ],
      "text/plain": [
       "      Location      City  Bedrooms  Bathrooms  Parking   Price\n",
       "0      South B   Nairobi         1          1     <NA>   25000\n",
       "1        Karen   Nairobi         3          2     <NA>  280000\n",
       "2      Rosslyn   Nairobi         2          2     <NA>  170000\n",
       "3     Syokimau   Nairobi         2          2        2   28000\n",
       "4   Kileleshwa   Nairobi         3          3     <NA>  150000"
      ]
     },
     "execution_count": 80,
     "metadata": {},
     "output_type": "execute_result"
    }
   ],
   "source": [
    "prop_24_new.head()"
   ]
  },
  {
   "cell_type": "code",
   "execution_count": 81,
   "metadata": {},
   "outputs": [
    {
     "name": "stdout",
     "output_type": "stream",
     "text": [
      "<class 'pandas.core.frame.DataFrame'>\n",
      "RangeIndex: 211995 entries, 0 to 211994\n",
      "Data columns (total 6 columns):\n",
      " #   Column     Non-Null Count   Dtype \n",
      "---  ------     --------------   ----- \n",
      " 0   Location   188149 non-null  object\n",
      " 1   City       188149 non-null  object\n",
      " 2   Bedrooms   206572 non-null  Int64 \n",
      " 3   Bathrooms  203646 non-null  Int64 \n",
      " 4   Parking    103158 non-null  Int64 \n",
      " 5   Price      211900 non-null  Int64 \n",
      "dtypes: Int64(4), object(2)\n",
      "memory usage: 10.5+ MB\n"
     ]
    }
   ],
   "source": [
    "prop_24_new.info()"
   ]
  },
  {
   "cell_type": "markdown",
   "metadata": {},
   "source": [
    "Hurray, we are done with propert_24 dataset, \n",
    "Next is rent_ke dataset, just calling the function"
   ]
  },
  {
   "cell_type": "code",
   "execution_count": 82,
   "metadata": {},
   "outputs": [
    {
     "data": {
      "text/html": [
       "<div>\n",
       "<style scoped>\n",
       "    .dataframe tbody tr th:only-of-type {\n",
       "        vertical-align: middle;\n",
       "    }\n",
       "\n",
       "    .dataframe tbody tr th {\n",
       "        vertical-align: top;\n",
       "    }\n",
       "\n",
       "    .dataframe thead th {\n",
       "        text-align: right;\n",
       "    }\n",
       "</style>\n",
       "<table border=\"1\" class=\"dataframe\">\n",
       "  <thead>\n",
       "    <tr style=\"text-align: right;\">\n",
       "      <th></th>\n",
       "      <th>Price</th>\n",
       "      <th>Bedrooms</th>\n",
       "      <th>Bathrooms</th>\n",
       "      <th>City</th>\n",
       "      <th>Location</th>\n",
       "    </tr>\n",
       "  </thead>\n",
       "  <tbody>\n",
       "    <tr>\n",
       "      <th>0</th>\n",
       "      <td>155,000</td>\n",
       "      <td>4.0</td>\n",
       "      <td>4.0</td>\n",
       "      <td>Nairobi</td>\n",
       "      <td>General Mathenge</td>\n",
       "    </tr>\n",
       "    <tr>\n",
       "      <th>1</th>\n",
       "      <td>100,000</td>\n",
       "      <td>3.0</td>\n",
       "      <td>4.0</td>\n",
       "      <td>Nairobi</td>\n",
       "      <td>Kilimani</td>\n",
       "    </tr>\n",
       "    <tr>\n",
       "      <th>2</th>\n",
       "      <td>75,000</td>\n",
       "      <td>3.0</td>\n",
       "      <td>5.0</td>\n",
       "      <td>Nairobi</td>\n",
       "      <td>Lavington</td>\n",
       "    </tr>\n",
       "    <tr>\n",
       "      <th>3</th>\n",
       "      <td>135,000</td>\n",
       "      <td>3.0</td>\n",
       "      <td>4.0</td>\n",
       "      <td>Nairobi</td>\n",
       "      <td>Kilimani</td>\n",
       "    </tr>\n",
       "    <tr>\n",
       "      <th>4</th>\n",
       "      <td>50,000</td>\n",
       "      <td>3.0</td>\n",
       "      <td>NaN</td>\n",
       "      <td>Nairobi</td>\n",
       "      <td>Imara Daima</td>\n",
       "    </tr>\n",
       "  </tbody>\n",
       "</table>\n",
       "</div>"
      ],
      "text/plain": [
       "     Price  Bedrooms  Bathrooms     City          Location\n",
       "0  155,000       4.0        4.0  Nairobi  General Mathenge\n",
       "1  100,000       3.0        4.0  Nairobi          Kilimani\n",
       "2   75,000       3.0        5.0  Nairobi         Lavington\n",
       "3  135,000       3.0        4.0  Nairobi          Kilimani\n",
       "4   50,000       3.0        NaN  Nairobi       Imara Daima"
      ]
     },
     "execution_count": 82,
     "metadata": {},
     "output_type": "execute_result"
    }
   ],
   "source": [
    "rent_ke.head()"
   ]
  },
  {
   "cell_type": "code",
   "execution_count": 83,
   "metadata": {},
   "outputs": [
    {
     "name": "stdout",
     "output_type": "stream",
     "text": [
      "<class 'pandas.core.frame.DataFrame'>\n",
      "RangeIndex: 1848 entries, 0 to 1847\n",
      "Data columns (total 5 columns):\n",
      " #   Column     Non-Null Count  Dtype  \n",
      "---  ------     --------------  -----  \n",
      " 0   Price      1848 non-null   object \n",
      " 1   Bedrooms   1845 non-null   float64\n",
      " 2   Bathrooms  1557 non-null   float64\n",
      " 3   City       1848 non-null   object \n",
      " 4   Location   1848 non-null   object \n",
      "dtypes: float64(2), object(3)\n",
      "memory usage: 72.3+ KB\n"
     ]
    }
   ],
   "source": [
    "rent_ke.info()"
   ]
  },
  {
   "cell_type": "code",
   "execution_count": 84,
   "metadata": {},
   "outputs": [],
   "source": [
    "columns = ['Bedrooms', 'Bathrooms', 'Price']"
   ]
  },
  {
   "cell_type": "code",
   "execution_count": 85,
   "metadata": {},
   "outputs": [],
   "source": [
    "rent_ke_new = covert_to_int(rent_ke, columns)"
   ]
  },
  {
   "cell_type": "code",
   "execution_count": 86,
   "metadata": {},
   "outputs": [
    {
     "name": "stdout",
     "output_type": "stream",
     "text": [
      "<class 'pandas.core.frame.DataFrame'>\n",
      "RangeIndex: 1848 entries, 0 to 1847\n",
      "Data columns (total 5 columns):\n",
      " #   Column     Non-Null Count  Dtype \n",
      "---  ------     --------------  ----- \n",
      " 0   Price      1848 non-null   Int64 \n",
      " 1   Bedrooms   1845 non-null   Int64 \n",
      " 2   Bathrooms  1557 non-null   Int64 \n",
      " 3   City       1848 non-null   object\n",
      " 4   Location   1848 non-null   object\n",
      "dtypes: Int64(3), object(2)\n",
      "memory usage: 77.7+ KB\n"
     ]
    }
   ],
   "source": [
    "rent_ke_new.info()"
   ]
  },
  {
   "cell_type": "markdown",
   "metadata": {},
   "source": [
    "Hurray, we're done with that, let's now save them as a csv file"
   ]
  },
  {
   "cell_type": "code",
   "execution_count": 87,
   "metadata": {},
   "outputs": [
    {
     "data": {
      "text/html": [
       "<div>\n",
       "<style scoped>\n",
       "    .dataframe tbody tr th:only-of-type {\n",
       "        vertical-align: middle;\n",
       "    }\n",
       "\n",
       "    .dataframe tbody tr th {\n",
       "        vertical-align: top;\n",
       "    }\n",
       "\n",
       "    .dataframe thead th {\n",
       "        text-align: right;\n",
       "    }\n",
       "</style>\n",
       "<table border=\"1\" class=\"dataframe\">\n",
       "  <thead>\n",
       "    <tr style=\"text-align: right;\">\n",
       "      <th></th>\n",
       "      <th>Price</th>\n",
       "      <th>Bedrooms</th>\n",
       "      <th>Bathrooms</th>\n",
       "      <th>City</th>\n",
       "      <th>Location</th>\n",
       "    </tr>\n",
       "  </thead>\n",
       "  <tbody>\n",
       "    <tr>\n",
       "      <th>0</th>\n",
       "      <td>155000</td>\n",
       "      <td>4</td>\n",
       "      <td>4</td>\n",
       "      <td>Nairobi</td>\n",
       "      <td>General Mathenge</td>\n",
       "    </tr>\n",
       "    <tr>\n",
       "      <th>1</th>\n",
       "      <td>100000</td>\n",
       "      <td>3</td>\n",
       "      <td>4</td>\n",
       "      <td>Nairobi</td>\n",
       "      <td>Kilimani</td>\n",
       "    </tr>\n",
       "    <tr>\n",
       "      <th>2</th>\n",
       "      <td>75000</td>\n",
       "      <td>3</td>\n",
       "      <td>5</td>\n",
       "      <td>Nairobi</td>\n",
       "      <td>Lavington</td>\n",
       "    </tr>\n",
       "    <tr>\n",
       "      <th>3</th>\n",
       "      <td>135000</td>\n",
       "      <td>3</td>\n",
       "      <td>4</td>\n",
       "      <td>Nairobi</td>\n",
       "      <td>Kilimani</td>\n",
       "    </tr>\n",
       "    <tr>\n",
       "      <th>4</th>\n",
       "      <td>50000</td>\n",
       "      <td>3</td>\n",
       "      <td>&lt;NA&gt;</td>\n",
       "      <td>Nairobi</td>\n",
       "      <td>Imara Daima</td>\n",
       "    </tr>\n",
       "  </tbody>\n",
       "</table>\n",
       "</div>"
      ],
      "text/plain": [
       "    Price  Bedrooms  Bathrooms     City          Location\n",
       "0  155000         4          4  Nairobi  General Mathenge\n",
       "1  100000         3          4  Nairobi          Kilimani\n",
       "2   75000         3          5  Nairobi         Lavington\n",
       "3  135000         3          4  Nairobi          Kilimani\n",
       "4   50000         3       <NA>  Nairobi       Imara Daima"
      ]
     },
     "execution_count": 87,
     "metadata": {},
     "output_type": "execute_result"
    }
   ],
   "source": [
    "rent_ke_new.head()"
   ]
  },
  {
   "cell_type": "code",
   "execution_count": 88,
   "metadata": {},
   "outputs": [],
   "source": [
    "rent_ke_new.to_csv('data/data_final/rent_ke.csv', index=False)\n",
    "prop_24_new.to_csv('data/data_final/property24.csv', index=False)"
   ]
  }
 ],
 "metadata": {
  "kernelspec": {
   "display_name": "Python 3",
   "language": "python",
   "name": "python3"
  },
  "language_info": {
   "codemirror_mode": {
    "name": "ipython",
    "version": 3
   },
   "file_extension": ".py",
   "mimetype": "text/x-python",
   "name": "python",
   "nbconvert_exporter": "python",
   "pygments_lexer": "ipython3",
   "version": "3.10.12"
  },
  "orig_nbformat": 4
 },
 "nbformat": 4,
 "nbformat_minor": 2
}
